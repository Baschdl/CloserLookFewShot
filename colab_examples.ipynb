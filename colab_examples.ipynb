{
  "nbformat": 4,
  "nbformat_minor": 0,
  "metadata": {
    "colab": {
      "name": "Untitled0.ipynb",
      "provenance": [],
      "collapsed_sections": []
    },
    "kernelspec": {
      "name": "python3",
      "display_name": "Python 3"
    }
  },
  "cells": [
    {
      "cell_type": "code",
      "metadata": {
        "id": "dArB_S2OmGXj",
        "colab_type": "code",
        "colab": {}
      },
      "source": [
        "# Get current source code\n",
        "# plant -> fruit\n",
        "!rm -r CloserLookFewShot\n",
        "!git clone https://github.com/Baschdl/CloserLookFewShot.git\n",
        "!cd CloserLookFewShot/ && git checkout two_phase_save_feature # Change to branch you want to start training from.\n",
        "# Download CIFAR-FS dataset\n",
        "!cd CloserLookFewShot/filelists/CIFARFS && ./download_Cifar.sh\n",
        "# Create train, val, test split\n",
        "from CloserLookFewShot.filelists.CIFARFS.generate_cross_domain_split import generate_cross_domain_split\n",
        "base_classes = [\"poppy\", \"rose\", \"tulip\", \"palm_tree\", \"pine_tree\", \"oak_tree\", \"willow_tree\"]\n",
        "val_classes = [\"bottle\", \"can\", \"plate\"]\n",
        "novel_classes = [\"apple\", \"pear\", \"mushroom\"]\n",
        "# \"orchid\", \"sunflower\", \"maple_tree\",\n",
        "generate_cross_domain_split(base_classes, val_classes, novel_classes)\n",
        "!cd CloserLookFewShot/ && python3 ./train.py --dataset CIFARFS --model Conv4 --method protonet --start_epoch 0 --stop_epoch 100 --train_n_way 3 --test_n_way 3 --n_shot 1\n",
        "!cd CloserLookFewShot/ && python3 ./save_features.py --dataset CIFARFS --model Conv4 --method protonet --save_iter 99 --n_shot 1 --train_n_way 3 --test_n_way 3 --protonetpp True --additional_iter 2\n",
        "!cd CloserLookFewShot/ && python3 ./test.py --dataset CIFARFS --model Conv4 --method protonet --save_iter 99 --protonetpp True --test_n_way 3 --train_n_way 3 --n_shot 1 --additional_iter 2\n",
        "!cd CloserLookFewShot/ && python3 ./save_features.py --dataset CIFARFS --model Conv4 --method protonet --save_iter 99 --train_n_way 3 --test_n_way 3 --n_shot 1\n",
        "!cd CloserLookFewShot/ && python3 ./test.py --dataset CIFARFS --model Conv4 --method protonet --save_iter 99 --train_n_way 3 --test_n_way 3 --n_shot 1"
      ],
      "execution_count": 0,
      "outputs": []
    },
    {
      "cell_type": "code",
      "metadata": {
        "id": "c7Pj6Z1pL1sT",
        "colab_type": "code",
        "colab": {}
      },
      "source": [
        "# Get current source code\n",
        "# Land animals -> Water animals\n",
        "!rm -r CloserLookFewShot\n",
        "!git clone https://github.com/Baschdl/CloserLookFewShot.git\n",
        "!cd CloserLookFewShot/ && git checkout two_phase_save_feature # Change to branch you want to start training from.\n",
        "# Download CIFAR-FS dataset\n",
        "!cd CloserLookFewShot/filelists/CIFARFS && ./download_Cifar.sh\n",
        "# Create train, val, test split\n",
        "from CloserLookFewShot.filelists.CIFARFS.generate_cross_domain_split import generate_cross_domain_split\n",
        "base_classes = [\"bear\", \"leopard\", \"lion\", \"tiger\", \"wolf\", \"kangaroo\", \"camel\", \"cattle\", \"chimpanzee\", \"elephant\"]\n",
        "val_classes = [\"beaver\", \"otter\", \"whale\"]\n",
        "novel_classes = [\"trout\", \"aquarium_fish\", \"flatfish\"]\n",
        "generate_cross_domain_split(base_classes, val_classes, novel_classes)\n",
        "!cd CloserLookFewShot/ && python3 ./train.py --dataset CIFARFS --model Conv4 --method protonet --start_epoch 0 --stop_epoch 100 --train_n_way 3 --test_n_way 3 --n_shot 1\n",
        "!cd CloserLookFewShot/ && python3 ./save_features.py --dataset CIFARFS --model Conv4 --method protonet --save_iter 99 --n_shot 1 --train_n_way 3 --test_n_way 3 --protonetpp True --additional_iter 2\n",
        "!cd CloserLookFewShot/ && python3 ./test.py --dataset CIFARFS --model Conv4 --method protonet --save_iter 99 --protonetpp True --test_n_way 3 --train_n_way 3 --n_shot 1 --additional_iter 2\n",
        "!cd CloserLookFewShot/ && python3 ./save_features.py --dataset CIFARFS --model Conv4 --method protonet --save_iter 99 --train_n_way 3 --test_n_way 3 --n_shot 1\n",
        "!cd CloserLookFewShot/ && python3 ./test.py --dataset CIFARFS --model Conv4 --method protonet --save_iter 99 --train_n_way 3 --test_n_way 3 --n_shot 1"
      ],
      "execution_count": 0,
      "outputs": []
    },
    {
      "cell_type": "code",
      "metadata": {
        "id": "yoT0wsOXPFX9",
        "colab_type": "code",
        "colab": {}
      },
      "source": [
        "# Get current source code\n",
        "# Land animals -> insects\n",
        "!rm -r CloserLookFewShot\n",
        "!git clone https://github.com/Baschdl/CloserLookFewShot.git\n",
        "!cd CloserLookFewShot/ && git checkout two_phase_save_feature # Change to branch you want to start training from.\n",
        "# Download CIFAR-FS dataset\n",
        "!cd CloserLookFewShot/filelists/CIFARFS && ./download_Cifar.sh\n",
        "# Create train, val, test split\n",
        "from CloserLookFewShot.filelists.CIFARFS.generate_cross_domain_split import generate_cross_domain_split\n",
        "base_classes = [\"bear\", \"leopard\", \"lion\", \"tiger\", \"wolf\", \"kangaroo\", \"camel\", \"cattle\", \"chimpanzee\", \"elephant\"]\n",
        "val_classes = [\"beaver\", \"otter\", \"whale\"]\n",
        "novel_classes = [\"bee\", \"beetle\", \"cockroach\"]\n",
        "generate_cross_domain_split(base_classes, val_classes, novel_classes)\n",
        "!cd CloserLookFewShot/ && python3 ./train.py --dataset CIFARFS --model Conv4 --method protonet --start_epoch 0 --stop_epoch 100 --train_n_way 3 --test_n_way 3 --n_shot 1\n",
        "!cd CloserLookFewShot/ && python3 ./save_features.py --dataset CIFARFS --model Conv4 --method protonet --save_iter 99 --n_shot 1 --train_n_way 3 --test_n_way 3 --protonetpp True --additional_iter 2\n",
        "!cd CloserLookFewShot/ && python3 ./test.py --dataset CIFARFS --model Conv4 --method protonet --save_iter 99 --protonetpp True --test_n_way 3 --train_n_way 3 --n_shot 1 --additional_iter 2\n",
        "!cd CloserLookFewShot/ && python3 ./save_features.py --dataset CIFARFS --model Conv4 --method protonet --save_iter 99 --train_n_way 3 --test_n_way 3 --n_shot 1\n",
        "!cd CloserLookFewShot/ && python3 ./test.py --dataset CIFARFS --model Conv4 --method protonet --save_iter 99 --train_n_way 3 --test_n_way 3 --n_shot 1"
      ],
      "execution_count": 0,
      "outputs": []
    },
    {
      "cell_type": "code",
      "metadata": {
        "id": "ZhVu9b5GPQKt",
        "colab_type": "code",
        "colab": {}
      },
      "source": [
        "# Get current source code\n",
        "# Land animals -> aquatic_mammals\n",
        "!rm -r CloserLookFewShot\n",
        "!git clone https://github.com/Baschdl/CloserLookFewShot.git\n",
        "!cd CloserLookFewShot/ && git checkout two_phase_save_feature # Change to branch you want to start training from.\n",
        "# Download CIFAR-FS dataset\n",
        "!cd CloserLookFewShot/filelists/CIFARFS && ./download_Cifar.sh\n",
        "# Create train, val, test split\n",
        "from CloserLookFewShot.filelists.CIFARFS.generate_cross_domain_split import generate_cross_domain_split\n",
        "base_classes = [\"bear\", \"leopard\", \"lion\", \"camel\", \"cattle\", \"chimpanzee\", \"elephant\"]\n",
        "val_classes = [\"bee\", \"beetle\", \"cockroach\"]\n",
        "novel_classes = [\"beaver\", \"otter\", \"whale\"]\n",
        "# \"tiger\", \"wolf\", \"kangaroo\", no domain shift\n",
        "generate_cross_domain_split(base_classes, val_classes, novel_classes)\n",
        "!cd CloserLookFewShot/ && python3 ./train.py --dataset CIFARFS --model Conv4 --method protonet --start_epoch 0 --stop_epoch 100 --train_n_way 3 --test_n_way 3 --n_shot 1\n",
        "!cd CloserLookFewShot/ && python3 ./save_features.py --dataset CIFARFS --model Conv4 --method protonet --save_iter 99 --n_shot 1 --train_n_way 3 --test_n_way 3 --protonetpp True --additional_iter 2\n",
        "!cd CloserLookFewShot/ && python3 ./test.py --dataset CIFARFS --model Conv4 --method protonet --save_iter 99 --protonetpp True --test_n_way 3 --train_n_way 3 --n_shot 1 --additional_iter 2\n",
        "!cd CloserLookFewShot/ && python3 ./save_features.py --dataset CIFARFS --model Conv4 --method protonet --save_iter 99 --train_n_way 3 --test_n_way 3 --n_shot 1\n",
        "!cd CloserLookFewShot/ && python3 ./test.py --dataset CIFARFS --model Conv4 --method protonet --save_iter 99 --train_n_way 3 --test_n_way 3 --n_shot 1"
      ],
      "execution_count": 0,
      "outputs": []
    },
    {
      "cell_type": "code",
      "metadata": {
        "id": "e54_AKc3PiJk",
        "colab_type": "code",
        "colab": {}
      },
      "source": [
        "# Get current source code\n",
        "# Outdoor scenes and object -> vehicles\n",
        "!rm -r CloserLookFewShot\n",
        "!git clone https://github.com/Baschdl/CloserLookFewShot.git\n",
        "!cd CloserLookFewShot/ && git checkout two_phase_save_feature # Change to branch you want to start training from.\n",
        "# Download CIFAR-FS dataset\n",
        "!cd CloserLookFewShot/filelists/CIFARFS && ./download_Cifar.sh\n",
        "# Create train, val, test split\n",
        "from CloserLookFewShot.filelists.CIFARFS.generate_cross_domain_split import generate_cross_domain_split\n",
        "base_classes = [\"cloud\", \"forest\", \"mountain\", \"castle\", \"house\", \"road\", \"skyscraper\"]\n",
        "val_classes = [\"pickup_truck\", \"train\", \"motorcycle\"]\n",
        "novel_classes = [\"bicycle\", \"bus\", \"tractor\"] \n",
        "# \"plain\", \"sea\", \"bridge\", no doamina shift\n",
        "generate_cross_domain_split(base_classes, val_classes, novel_classes)\n",
        "!cd CloserLookFewShot/ && python3 ./train.py --dataset CIFARFS --model Conv4 --method protonet --start_epoch 0 --stop_epoch 100 --train_n_way 3 --test_n_way 3 --n_shot 1\n",
        "!cd CloserLookFewShot/ && python3 ./save_features.py --dataset CIFARFS --model Conv4 --method protonet --save_iter 99 --n_shot 1 --train_n_way 3 --test_n_way 3 --protonetpp True --additional_iter 2\n",
        "!cd CloserLookFewShot/ && python3 ./test.py --dataset CIFARFS --model Conv4 --method protonet --save_iter 99 --protonetpp True --test_n_way 3 --train_n_way 3 --n_shot 1 --additional_iter 2\n",
        "!cd CloserLookFewShot/ && python3 ./save_features.py --dataset CIFARFS --model Conv4 --method protonet --save_iter 99 --train_n_way 3 --test_n_way 3 --n_shot 1\n",
        "!cd CloserLookFewShot/ && python3 ./test.py --dataset CIFARFS --model Conv4 --method protonet --save_iter 99 --train_n_way 3 --test_n_way 3 --n_shot 1"
      ],
      "execution_count": 0,
      "outputs": []
    }
  ]
}