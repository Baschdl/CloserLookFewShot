{
  "nbformat": 4,
  "nbformat_minor": 0,
  "metadata": {
    "accelerator": "GPU",
    "colab": {
      "name": "Experiments.ipynb",
      "provenance": [],
      "collapsed_sections": [],
      "toc_visible": true
    },
    "kernelspec": {
      "display_name": "Python 3",
      "language": "python",
      "name": "python3"
    },
    "language_info": {
      "codemirror_mode": {
        "name": "ipython",
        "version": 3
      },
      "file_extension": ".py",
      "mimetype": "text/x-python",
      "name": "python",
      "nbconvert_exporter": "python",
      "pygments_lexer": "ipython3",
      "version": "3.7.7"
    }
  },
  "cells": [
    {
      "cell_type": "markdown",
      "metadata": {
        "colab_type": "text",
        "id": "c47S_o0-S1c5"
      },
      "source": [
        "# No domain shift"
      ]
    },
    {
      "cell_type": "code",
      "metadata": {
        "colab_type": "code",
        "id": "AOi5lcrbpHvM",
        "colab": {}
      },
      "source": [
        "# No domain shift baseline classes from superclasses flowers, fruit and vegetables and trees\n",
        "# Get current source code\n",
        "!rm -r CloserLookFewShot\n",
        "!git clone https://github.com/Baschdl/CloserLookFewShot.git\n",
        "!cd CloserLookFewShot/ && git checkout master # Change to branch you want to start training from.\n",
        "# Download CIFAR-FS dataset\n",
        "!cd CloserLookFewShot/filelists/CIFARFS && ./download_Cifar.sh\n",
        "# Create train, val, test split\n",
        "from CloserLookFewShot.filelists.CIFARFS.generate_cross_domain_split import generate_cross_domain_split\n",
        "base_classes = [\"poppy\", \"rose\", \"tulip\", \"apple\", \"sweet_pepper\", \"maple_tree\", \"oak_tree\"]\n",
        "val_classes = [\"sunflower\", \"orange\", \"palm_tree\"]\n",
        "novel_classes = [\"orchid\", \"pear\", \"pine_tree\"]\n",
        "# \"orchid\", \"sunflower\", \"maple_tree\",\n",
        "generate_cross_domain_split(base_classes, val_classes, novel_classes)\n",
        "# get the best model\n",
        "%env save_iter=-1 \n",
        "%env stop_epoch = 1"
      ],
      "execution_count": 0,
      "outputs": []
    },
    {
      "cell_type": "code",
      "metadata": {
        "colab_type": "code",
        "id": "aZy6fEHhRdOq",
        "colab": {}
      },
      "source": [
        "%env n_shot=1\n",
        "print(\"\\n n_shot: 1 \\n\")\n",
        "print(\"Baseline\")\n",
        "!cd CloserLookFewShot/ && python3 ./train.py --dataset CIFARFS --model Conv4 --method baseline --start_epoch 0 --stop_epoch $stop_epoch --train_n_way 3 --test_n_way 3 --n_shot $n_shot\n",
        "!cd CloserLookFewShot/ && python3 ./save_features.py --dataset CIFARFS --model Conv4 --method baseline --save_iter $save_iter --train_n_way 3 --test_n_way 3 --n_shot $n_shot\n",
        "!cd CloserLookFewShot/ && python3 ./test.py --dataset CIFARFS --model Conv4 --method baseline --save_iter $save_iter --test_n_way 3 --train_n_way 3 --n_shot $n_shot\n",
        "!cd CloserLookFewShot/ && python3 ./test.py --dataset CIFARFS --model Conv4 --method baseline --save_iter $save_iter --test_n_way 3 --train_n_way 3 --n_shot $n_shot --adaptation\n",
        "print(\"Baseline++\")\n",
        "!cd CloserLookFewShot/ && python3 ./train.py --dataset CIFARFS --model Conv4 --method baseline++ --start_epoch 0 --stop_epoch $stop_epoch --train_n_way 3 --test_n_way 3 --n_shot $n_shot\n",
        "!cd CloserLookFewShot/ && python3 ./save_features.py --dataset CIFARFS --model Conv4 --method baseline++ --save_iter $save_iter --train_n_way 3 --test_n_way 3 --n_shot $n_shot\n",
        "!cd CloserLookFewShot/ && python3 ./test.py --dataset CIFARFS --model Conv4 --method baseline++ --save_iter $save_iter --test_n_way 3 --train_n_way 3 --n_shot $n_shot\n",
        "!cd CloserLookFewShot/ && python3 ./test.py --dataset CIFARFS --model Conv4 --method baseline++ --save_iter $save_iter --test_n_way 3 --train_n_way 3 --n_shot $n_shot --adaptation\n",
        "print(\"relationnet\")\n",
        "!cd CloserLookFewShot/ && python3 ./train.py --dataset CIFARFS --model Conv4 --method relationnet --start_epoch 0 --stop_epoch $stop_epoch --train_n_way 3 --test_n_way 3 --n_shot $n_shot\n",
        "!cd CloserLookFewShot/ && python3 ./save_features.py --dataset CIFARFS --model Conv4 --method relationnet --save_iter $save_iter --train_n_way 3 --test_n_way 3 --n_shot $n_shot\n",
        "!cd CloserLookFewShot/ && python3 ./test.py --dataset CIFARFS --model Conv4 --method relationnet --save_iter $save_iter --test_n_way 3 --train_n_way 3 --n_shot $n_shot\n",
        "print(\"Protonet\")\n",
        "!cd CloserLookFewShot/ && python3 ./train.py --dataset CIFARFS --model Conv4 --method protonet --start_epoch 0 --stop_epoch $stop_epoch --train_n_way 3 --test_n_way 3 --n_shot $n_shot\n",
        "!cd CloserLookFewShot/ && python3 ./save_features.py --dataset CIFARFS --model Conv4 --method protonet --save_iter $save_iter --train_n_way 3 --test_n_way 3 --n_shot $n_shot\n",
        "!cd CloserLookFewShot/ && python3 ./test.py --dataset CIFARFS --model Conv4 --method protonet --save_iter $save_iter --test_n_way 3 --train_n_way 3 --n_shot $n_shot\n",
        "!cd CloserLookFewShot/ && python3 ./test.py --dataset CIFARFS --model Conv4 --method protonet --save_iter $save_iter --test_n_way 3 --train_n_way 3 --n_shot $n_shot --adaptation"
      ],
      "execution_count": 0,
      "outputs": []
    },
    {
      "cell_type": "code",
      "metadata": {
        "colab_type": "code",
        "id": "bLkJLSu_RiPD",
        "colab": {}
      },
      "source": [
        "%env n_shot=2\n",
        "print(\"\\n n_shot: 2 \\n\")\n",
        "print(\"Baseline\")\n",
        "!cd CloserLookFewShot/ && python3 ./train.py --dataset CIFARFS --model Conv4 --method baseline --start_epoch 0 --stop_epoch $stop_epoch --train_n_way 3 --test_n_way 3 --n_shot $n_shot\n",
        "!cd CloserLookFewShot/ && python3 ./save_features.py --dataset CIFARFS --model Conv4 --method baseline --save_iter $save_iter --train_n_way 3 --test_n_way 3 --n_shot $n_shot\n",
        "!cd CloserLookFewShot/ && python3 ./test.py --dataset CIFARFS --model Conv4 --method baseline --save_iter $save_iter --test_n_way 3 --train_n_way 3 --n_shot $n_shot\n",
        "!cd CloserLookFewShot/ && python3 ./test.py --dataset CIFARFS --model Conv4 --method baseline --save_iter $save_iter --test_n_way 3 --train_n_way 3 --n_shot $n_shot --adaptation\n",
        "print(\"Baseline++\")\n",
        "!cd CloserLookFewShot/ && python3 ./train.py --dataset CIFARFS --model Conv4 --method baseline++ --start_epoch 0 --stop_epoch $stop_epoch --train_n_way 3 --test_n_way 3 --n_shot $n_shot\n",
        "!cd CloserLookFewShot/ && python3 ./save_features.py --dataset CIFARFS --model Conv4 --method baseline++ --save_iter $save_iter --train_n_way 3 --test_n_way 3 --n_shot $n_shot\n",
        "!cd CloserLookFewShot/ && python3 ./test.py --dataset CIFARFS --model Conv4 --method baseline++ --save_iter $save_iter --test_n_way 3 --train_n_way 3 --n_shot $n_shot\n",
        "!cd CloserLookFewShot/ && python3 ./test.py --dataset CIFARFS --model Conv4 --method baseline++ --save_iter $save_iter --test_n_way 3 --train_n_way 3 --n_shot $n_shot --adaptation\n",
        "print(\"relationnet\")\n",
        "!cd CloserLookFewShot/ && python3 ./train.py --dataset CIFARFS --model Conv4 --method relationnet --start_epoch 0 --stop_epoch $stop_epoch --train_n_way 3 --test_n_way 3 --n_shot $n_shot\n",
        "!cd CloserLookFewShot/ && python3 ./save_features.py --dataset CIFARFS --model Conv4 --method relationnet --save_iter $save_iter --train_n_way 3 --test_n_way 3 --n_shot $n_shot\n",
        "!cd CloserLookFewShot/ && python3 ./test.py --dataset CIFARFS --model Conv4 --method relationnet --save_iter $save_iter --test_n_way 3 --train_n_way 3 --n_shot $n_shot\n",
        "print(\"Protonet\")\n",
        "!cd CloserLookFewShot/ && python3 ./train.py --dataset CIFARFS --model Conv4 --method protonet --start_epoch 0 --stop_epoch $stop_epoch --train_n_way 3 --test_n_way 3 --n_shot $n_shot\n",
        "!cd CloserLookFewShot/ && python3 ./save_features.py --dataset CIFARFS --model Conv4 --method protonet --save_iter $save_iter --train_n_way 3 --test_n_way 3 --n_shot $n_shot\n",
        "!cd CloserLookFewShot/ && python3 ./test.py --dataset CIFARFS --model Conv4 --method protonet --save_iter $save_iter --test_n_way 3 --train_n_way 3 --n_shot $n_shot\n",
        "!cd CloserLookFewShot/ && python3 ./test.py --dataset CIFARFS --model Conv4 --method protonet --save_iter $save_iter --test_n_way 3 --train_n_way 3 --n_shot $n_shot --adaptation"
      ],
      "execution_count": 0,
      "outputs": []
    },
    {
      "cell_type": "code",
      "metadata": {
        "colab_type": "code",
        "id": "zrvE5q_mPt-K",
        "colab": {}
      },
      "source": [
        "%env n_shot=2\n",
        "print(\"Protonet+\")\n",
        "!cd CloserLookFewShot/ && python3 ./train.py --dataset CIFARFS --model Conv4 --method protonetn --start_epoch 0 --stop_epoch $stop_epoch --train_n_way 3 --test_n_way 3 --n_shot $n_shot\n",
        "!cd CloserLookFewShot/ && python3 ./test.py --dataset CIFARFS --model Conv4 --method protonetn --save_iter $save_iter --test_n_way 3 --train_n_way 3 --n_shot $n_shot  "
      ],
      "execution_count": 0,
      "outputs": []
    },
    {
      "cell_type": "code",
      "metadata": {
        "colab_type": "code",
        "id": "uY7T3b6pRksE",
        "colab": {}
      },
      "source": [
        "%env n_shot=5\n",
        "print(\"\\n n_shot: 5 \\n\")\n",
        "print(\"Baseline\")\n",
        "!cd CloserLookFewShot/ && python3 ./train.py --dataset CIFARFS --model Conv4 --method baseline --start_epoch 0 --stop_epoch $stop_epoch --train_n_way 3 --test_n_way 3 --n_shot $n_shot\n",
        "!cd CloserLookFewShot/ && python3 ./save_features.py --dataset CIFARFS --model Conv4 --method baseline --save_iter $save_iter --train_n_way 3 --test_n_way 3 --n_shot $n_shot\n",
        "!cd CloserLookFewShot/ && python3 ./test.py --dataset CIFARFS --model Conv4 --method baseline --save_iter $save_iter --test_n_way 3 --train_n_way 3 --n_shot $n_shot\n",
        "!cd CloserLookFewShot/ && python3 ./test.py --dataset CIFARFS --model Conv4 --method baseline --save_iter $save_iter --test_n_way 3 --train_n_way 3 --n_shot $n_shot --adaptation\n",
        "print(\"Baseline++\")\n",
        "!cd CloserLookFewShot/ && python3 ./train.py --dataset CIFARFS --model Conv4 --method baseline++ --start_epoch 0 --stop_epoch $stop_epoch --train_n_way 3 --test_n_way 3 --n_shot $n_shot\n",
        "!cd CloserLookFewShot/ && python3 ./save_features.py --dataset CIFARFS --model Conv4 --method baseline++ --save_iter $save_iter --train_n_way 3 --test_n_way 3 --n_shot $n_shot\n",
        "!cd CloserLookFewShot/ && python3 ./test.py --dataset CIFARFS --model Conv4 --method baseline++ --save_iter $save_iter --test_n_way 3 --train_n_way 3 --n_shot $n_shot\n",
        "!cd CloserLookFewShot/ && python3 ./test.py --dataset CIFARFS --model Conv4 --method baseline++ --save_iter $save_iter --test_n_way 3 --train_n_way 3 --n_shot $n_shot --adaptation\n",
        "print(\"relationnet\")\n",
        "!cd CloserLookFewShot/ && python3 ./train.py --dataset CIFARFS --model Conv4 --method relationnet --start_epoch 0 --stop_epoch $stop_epoch --train_n_way 3 --test_n_way 3 --n_shot $n_shot\n",
        "!cd CloserLookFewShot/ && python3 ./save_features.py --dataset CIFARFS --model Conv4 --method relationnet --save_iter $save_iter --train_n_way 3 --test_n_way 3 --n_shot $n_shot\n",
        "!cd CloserLookFewShot/ && python3 ./test.py --dataset CIFARFS --model Conv4 --method relationnet --save_iter $save_iter --test_n_way 3 --train_n_way 3 --n_shot $n_shot\n",
        "!cd CloserLookFewShot/ && python3 ./test.py --dataset CIFARFS --model Conv4 --method relationnet --save_iter $save_iter --test_n_way 3 --train_n_way 3 --n_shot $n_shot --adaptation\n",
        "print(\"Protonet\")\n",
        "!cd CloserLookFewShot/ && python3 ./train.py --dataset CIFARFS --model Conv4 --method protonet --start_epoch 0 --stop_epoch $stop_epoch --train_n_way 3 --test_n_way 3 --n_shot $n_shot\n",
        "!cd CloserLookFewShot/ && python3 ./save_features.py --dataset CIFARFS --model Conv4 --method protonet --save_iter $save_iter --train_n_way 3 --test_n_way 3 --n_shot $n_shot\n",
        "!cd CloserLookFewShot/ && python3 ./test.py --dataset CIFARFS --model Conv4 --method protonet --save_iter $save_iter --test_n_way 3 --train_n_way 3 --n_shot $n_shot\n",
        "!cd CloserLookFewShot/ && python3 ./test.py --dataset CIFARFS --model Conv4 --method protonet --save_iter $save_iter --test_n_way 3 --train_n_way 3 --n_shot $n_shot --adaptation"
      ],
      "execution_count": 0,
      "outputs": []
    },
    {
      "cell_type": "code",
      "metadata": {
        "colab_type": "code",
        "id": "Fzfrvz8vP3hj",
        "colab": {}
      },
      "source": [
        "%env n_shot=5\n",
        "print(\"Protonet+\")\n",
        "!cd CloserLookFewShot/ && python3 ./train.py --dataset CIFARFS --model Conv4 --method protonetn --start_epoch 0 --stop_epoch $stop_epoch --train_n_way 3 --test_n_way 3 --n_shot $n_shot\n",
        "!cd CloserLookFewShot/ && python3 ./test.py --dataset CIFARFS --model Conv4 --method protonetn --save_iter $save_iter --test_n_way 3 --train_n_way 3 --n_shot $n_shot "
      ],
      "execution_count": 0,
      "outputs": []
    },
    {
      "cell_type": "markdown",
      "metadata": {
        "colab_type": "text",
        "id": "HliqR-wWNwHZ"
      },
      "source": [
        "# flowers and trees superclasses -> fruits & vegetables superclass"
      ]
    },
    {
      "cell_type": "code",
      "metadata": {
        "colab_type": "code",
        "id": "dArB_S2OmGXj",
        "colab": {}
      },
      "source": [
        "# Get current source code\n",
        "# flowers and trees superclasses -> fruits & vegetables superclass\n",
        "!rm -r CloserLookFewShot\n",
        "!git clone https://github.com/Baschdl/CloserLookFewShot.git\n",
        "!cd CloserLookFewShot/ && git checkout master # Change to branch you want to start training from.\n",
        "# Download CIFAR-FS dataset\n",
        "!cd CloserLookFewShot/filelists/CIFARFS && ./download_Cifar.sh\n",
        "# Create train, val, test split\n",
        "from CloserLookFewShot.filelists.CIFARFS.generate_cross_domain_split import generate_cross_domain_split\n",
        "base_classes = [\"poppy\", \"rose\", \"tulip\", \"palm_tree\", \"pine_tree\", \"oak_tree\", \"willow_tree\"]\n",
        "val_classes = [\"orchid\", \"sunflower\", \"maple_tree\"]\n",
        "novel_classes = [\"apple\", \"pear\", \"mushroom\"]\n",
        "# \"orchid\", \"sunflower\", \"maple_tree\",\n",
        "generate_cross_domain_split(base_classes, val_classes, novel_classes)\n",
        "%env save_iter=-1"
      ],
      "execution_count": 0,
      "outputs": []
    },
    {
      "cell_type": "code",
      "metadata": {
        "colab_type": "code",
        "id": "c89IAWzGRxBw",
        "colab": {}
      },
      "source": [
        "%env n_shot=1\n",
        "print(\"\\n n_shot: 1 \\n\")\n",
        "print(\"Baseline\")\n",
        "!cd CloserLookFewShot/ && python3 ./train.py --dataset CIFARFS --model Conv4 --method baseline --start_epoch 0 --stop_epoch $stop_epoch --train_n_way 3 --test_n_way 3 --n_shot $n_shot\n",
        "!cd CloserLookFewShot/ && python3 ./save_features.py --dataset CIFARFS --model Conv4 --method baseline --save_iter $save_iter --train_n_way 3 --test_n_way 3 --n_shot $n_shot\n",
        "!cd CloserLookFewShot/ && python3 ./test.py --dataset CIFARFS --model Conv4 --method baseline --save_iter $save_iter --test_n_way 3 --train_n_way 3 --n_shot $n_shot\n",
        "!cd CloserLookFewShot/ && python3 ./test.py --dataset CIFARFS --model Conv4 --method baseline --save_iter $save_iter --test_n_way 3 --train_n_way 3 --n_shot $n_shot --adaptation\n",
        "print(\"Baseline++\")\n",
        "!cd CloserLookFewShot/ && python3 ./train.py --dataset CIFARFS --model Conv4 --method baseline++ --start_epoch 0 --stop_epoch $stop_epoch --train_n_way 3 --test_n_way 3 --n_shot $n_shot\n",
        "!cd CloserLookFewShot/ && python3 ./save_features.py --dataset CIFARFS --model Conv4 --method baseline++ --save_iter $save_iter --train_n_way 3 --test_n_way 3 --n_shot $n_shot\n",
        "!cd CloserLookFewShot/ && python3 ./test.py --dataset CIFARFS --model Conv4 --method baseline++ --save_iter $save_iter --test_n_way 3 --train_n_way 3 --n_shot $n_shot\n",
        "!cd CloserLookFewShot/ && python3 ./test.py --dataset CIFARFS --model Conv4 --method baseline++ --save_iter $save_iter --test_n_way 3 --train_n_way 3 --n_shot $n_shot --adaptation\n",
        "print(\"relationnet\")\n",
        "!cd CloserLookFewShot/ && python3 ./train.py --dataset CIFARFS --model Conv4 --method relationnet --start_epoch 0 --stop_epoch $stop_epoch --train_n_way 3 --test_n_way 3 --n_shot $n_shot\n",
        "!cd CloserLookFewShot/ && python3 ./save_features.py --dataset CIFARFS --model Conv4 --method relationnet --save_iter $save_iter --train_n_way 3 --test_n_way 3 --n_shot $n_shot\n",
        "!cd CloserLookFewShot/ && python3 ./test.py --dataset CIFARFS --model Conv4 --method relationnet --save_iter $save_iter --test_n_way 3 --train_n_way 3 --n_shot $n_shot\n",
        "print(\"Protonet\")\n",
        "!cd CloserLookFewShot/ && python3 ./train.py --dataset CIFARFS --model Conv4 --method protonet --start_epoch 0 --stop_epoch $stop_epoch --train_n_way 3 --test_n_way 3 --n_shot $n_shot\n",
        "!cd CloserLookFewShot/ && python3 ./save_features.py --dataset CIFARFS --model Conv4 --method protonet --save_iter $save_iter --train_n_way 3 --test_n_way 3 --n_shot $n_shot\n",
        "!cd CloserLookFewShot/ && python3 ./test.py --dataset CIFARFS --model Conv4 --method protonet --save_iter $save_iter --test_n_way 3 --train_n_way 3 --n_shot $n_shot\n",
        "!cd CloserLookFewShot/ && python3 ./test.py --dataset CIFARFS --model Conv4 --method protonet --save_iter $save_iter --test_n_way 3 --train_n_way 3 --n_shot $n_shot --adaptation"
      ],
      "execution_count": 0,
      "outputs": []
    },
    {
      "cell_type": "code",
      "metadata": {
        "colab_type": "code",
        "id": "idOMIsPjRxCK",
        "colab": {}
      },
      "source": [
        "%env n_shot=2\n",
        "print(\"\\n n_shot: 2 \\n\")\n",
        "print(\"Baseline\")\n",
        "!cd CloserLookFewShot/ && python3 ./train.py --dataset CIFARFS --model Conv4 --method baseline --start_epoch 0 --stop_epoch $stop_epoch --train_n_way 3 --test_n_way 3 --n_shot $n_shot\n",
        "!cd CloserLookFewShot/ && python3 ./save_features.py --dataset CIFARFS --model Conv4 --method baseline --save_iter $save_iter --train_n_way 3 --test_n_way 3 --n_shot $n_shot\n",
        "!cd CloserLookFewShot/ && python3 ./test.py --dataset CIFARFS --model Conv4 --method baseline --save_iter $save_iter --test_n_way 3 --train_n_way 3 --n_shot $n_shot\n",
        "!cd CloserLookFewShot/ && python3 ./test.py --dataset CIFARFS --model Conv4 --method baseline --save_iter $save_iter --test_n_way 3 --train_n_way 3 --n_shot $n_shot --adaptation\n",
        "print(\"Baseline++\")\n",
        "!cd CloserLookFewShot/ && python3 ./train.py --dataset CIFARFS --model Conv4 --method baseline++ --start_epoch 0 --stop_epoch $stop_epoch --train_n_way 3 --test_n_way 3 --n_shot $n_shot\n",
        "!cd CloserLookFewShot/ && python3 ./save_features.py --dataset CIFARFS --model Conv4 --method baseline++ --save_iter $save_iter --train_n_way 3 --test_n_way 3 --n_shot $n_shot\n",
        "!cd CloserLookFewShot/ && python3 ./test.py --dataset CIFARFS --model Conv4 --method baseline++ --save_iter $save_iter --test_n_way 3 --train_n_way 3 --n_shot $n_shot\n",
        "!cd CloserLookFewShot/ && python3 ./test.py --dataset CIFARFS --model Conv4 --method baseline++ --save_iter $save_iter --test_n_way 3 --train_n_way 3 --n_shot $n_shot --adaptation\n",
        "print(\"relationnet\")\n",
        "!cd CloserLookFewShot/ && python3 ./train.py --dataset CIFARFS --model Conv4 --method relationnet --start_epoch 0 --stop_epoch $stop_epoch --train_n_way 3 --test_n_way 3 --n_shot $n_shot\n",
        "!cd CloserLookFewShot/ && python3 ./save_features.py --dataset CIFARFS --model Conv4 --method relationnet --save_iter $save_iter --train_n_way 3 --test_n_way 3 --n_shot $n_shot\n",
        "!cd CloserLookFewShot/ && python3 ./test.py --dataset CIFARFS --model Conv4 --method relationnet --save_iter $save_iter --test_n_way 3 --train_n_way 3 --n_shot $n_shot\n",
        "print(\"Protonet\")\n",
        "!cd CloserLookFewShot/ && python3 ./train.py --dataset CIFARFS --model Conv4 --method protonet --start_epoch 0 --stop_epoch $stop_epoch --train_n_way 3 --test_n_way 3 --n_shot $n_shot\n",
        "!cd CloserLookFewShot/ && python3 ./save_features.py --dataset CIFARFS --model Conv4 --method protonet --save_iter $save_iter --train_n_way 3 --test_n_way 3 --n_shot $n_shot\n",
        "!cd CloserLookFewShot/ && python3 ./test.py --dataset CIFARFS --model Conv4 --method protonet --save_iter $save_iter --test_n_way 3 --train_n_way 3 --n_shot $n_shot\n",
        "!cd CloserLookFewShot/ && python3 ./test.py --dataset CIFARFS --model Conv4 --method protonet --save_iter $save_iter --test_n_way 3 --train_n_way 3 --n_shot $n_shot --adaptation"
      ],
      "execution_count": 0,
      "outputs": []
    },
    {
      "cell_type": "code",
      "metadata": {
        "colab_type": "code",
        "id": "gsy-nseVQBWz",
        "colab": {}
      },
      "source": [
        "%env n_shot=2\n",
        "print(\"Protonet+\")\n",
        "!cd CloserLookFewShot/ && python3 ./train.py --dataset CIFARFS --model Conv4 --method protonetn --start_epoch 0 --stop_epoch $stop_epoch --train_n_way 3 --test_n_way 3 --n_shot $n_shot\n",
        "!cd CloserLookFewShot/ && python3 ./test.py --dataset CIFARFS --model Conv4 --method protonetn --save_iter $save_iter --test_n_way 3 --train_n_way 3 --n_shot $n_shot "
      ],
      "execution_count": 0,
      "outputs": []
    },
    {
      "cell_type": "code",
      "metadata": {
        "colab_type": "code",
        "id": "9gC6YcNjRxCY",
        "colab": {}
      },
      "source": [
        "%env n_shot=5\n",
        "print(\"\\n n_shot: 5 \\n\")\n",
        "print(\"Baseline\")\n",
        "!cd CloserLookFewShot/ && python3 ./train.py --dataset CIFARFS --model Conv4 --method baseline --start_epoch 0 --stop_epoch $stop_epoch --train_n_way 3 --test_n_way 3 --n_shot $n_shot\n",
        "!cd CloserLookFewShot/ && python3 ./save_features.py --dataset CIFARFS --model Conv4 --method baseline --save_iter $save_iter --train_n_way 3 --test_n_way 3 --n_shot $n_shot\n",
        "!cd CloserLookFewShot/ && python3 ./test.py --dataset CIFARFS --model Conv4 --method baseline --save_iter $save_iter --test_n_way 3 --train_n_way 3 --n_shot $n_shot\n",
        "!cd CloserLookFewShot/ && python3 ./test.py --dataset CIFARFS --model Conv4 --method baseline --save_iter $save_iter --test_n_way 3 --train_n_way 3 --n_shot $n_shot --adaptation\n",
        "print(\"Baseline++\")\n",
        "!cd CloserLookFewShot/ && python3 ./train.py --dataset CIFARFS --model Conv4 --method baseline++ --start_epoch 0 --stop_epoch $stop_epoch --train_n_way 3 --test_n_way 3 --n_shot $n_shot\n",
        "!cd CloserLookFewShot/ && python3 ./save_features.py --dataset CIFARFS --model Conv4 --method baseline++ --save_iter $save_iter --train_n_way 3 --test_n_way 3 --n_shot $n_shot\n",
        "!cd CloserLookFewShot/ && python3 ./test.py --dataset CIFARFS --model Conv4 --method baseline++ --save_iter $save_iter --test_n_way 3 --train_n_way 3 --n_shot $n_shot\n",
        "!cd CloserLookFewShot/ && python3 ./test.py --dataset CIFARFS --model Conv4 --method baseline++ --save_iter $save_iter --test_n_way 3 --train_n_way 3 --n_shot $n_shot --adaptation\n",
        "print(\"relationnet\")\n",
        "!cd CloserLookFewShot/ && python3 ./train.py --dataset CIFARFS --model Conv4 --method relationnet --start_epoch 0 --stop_epoch $stop_epoch --train_n_way 3 --test_n_way 3 --n_shot $n_shot\n",
        "!cd CloserLookFewShot/ && python3 ./save_features.py --dataset CIFARFS --model Conv4 --method relationnet --save_iter $save_iter --train_n_way 3 --test_n_way 3 --n_shot $n_shot\n",
        "!cd CloserLookFewShot/ && python3 ./test.py --dataset CIFARFS --model Conv4 --method relationnet --save_iter $save_iter --test_n_way 3 --train_n_way 3 --n_shot $n_shot\n",
        "!cd CloserLookFewShot/ && python3 ./test.py --dataset CIFARFS --model Conv4 --method relationnet --save_iter $save_iter --test_n_way 3 --train_n_way 3 --n_shot $n_shot --adaptation\n",
        "print(\"Protonet\")\n",
        "!cd CloserLookFewShot/ && python3 ./train.py --dataset CIFARFS --model Conv4 --method protonet --start_epoch 0 --stop_epoch $stop_epoch --train_n_way 3 --test_n_way 3 --n_shot $n_shot\n",
        "!cd CloserLookFewShot/ && python3 ./save_features.py --dataset CIFARFS --model Conv4 --method protonet --save_iter $save_iter --train_n_way 3 --test_n_way 3 --n_shot $n_shot\n",
        "!cd CloserLookFewShot/ && python3 ./test.py --dataset CIFARFS --model Conv4 --method protonet --save_iter $save_iter --test_n_way 3 --train_n_way 3 --n_shot $n_shot\n",
        "!cd CloserLookFewShot/ && python3 ./test.py --dataset CIFARFS --model Conv4 --method protonet --save_iter $save_iter --test_n_way 3 --train_n_way 3 --n_shot $n_shot --adaptation"
      ],
      "execution_count": 0,
      "outputs": []
    },
    {
      "cell_type": "code",
      "metadata": {
        "id": "l0dQcxVcW80N",
        "colab_type": "code",
        "colab": {}
      },
      "source": [
        "print(\"Protonet+\")\n",
        "!cd CloserLookFewShot/ && python3 ./train.py --dataset CIFARFS --model Conv4 --method protonetn --start_epoch 0 --stop_epoch $stop_epoch --train_n_way 3 --test_n_way 3 --n_shot $n_shot\n",
        "!cd CloserLookFewShot/ && python3 ./test.py --dataset CIFARFS --model Conv4 --method protonetn --save_iter $save_iter --test_n_way 3 --train_n_way 3 --n_shot $n_shot  "
      ],
      "execution_count": 0,
      "outputs": []
    },
    {
      "cell_type": "markdown",
      "metadata": {
        "colab_type": "text",
        "id": "ffj_mhjnSm4p"
      },
      "source": [
        "# Land animals -> Water animals"
      ]
    },
    {
      "cell_type": "code",
      "metadata": {
        "colab_type": "code",
        "id": "c7Pj6Z1pL1sT",
        "colab": {}
      },
      "source": [
        "# Get current source code\n",
        "# Land animals -> Water animals\n",
        "!rm -r CloserLookFewShot\n",
        "!git clone https://github.com/Baschdl/CloserLookFewShot.git\n",
        "!cd CloserLookFewShot/ && git checkout master # Change to branch you want to start training from.\n",
        "# Download CIFAR-FS dataset\n",
        "!cd CloserLookFewShot/filelists/CIFARFS && ./download_Cifar.sh\n",
        "# Create train, val, test split\n",
        "from CloserLookFewShot.filelists.CIFARFS.generate_cross_domain_split import generate_cross_domain_split\n",
        "base_classes = [\"bear\", \"leopard\", \"lion\", \"tiger\",  \"cattle\", \"chimpanzee\", \"elephant\"]\n",
        "val_classes = [\"wolf\", \"kangaroo\", \"camel\",]\n",
        "novel_classes = [\"trout\", \"aquarium_fish\", \"flatfish\"]\n",
        "generate_cross_domain_split(base_classes, val_classes, novel_classes)\n",
        "%env save_iter=-1"
      ],
      "execution_count": 0,
      "outputs": []
    },
    {
      "cell_type": "code",
      "metadata": {
        "colab_type": "code",
        "id": "kiYO91zkRzYc",
        "colab": {}
      },
      "source": [
        "%env n_shot=1\n",
        "print(\"\\n n_shot: 1 \\n\")\n",
        "print(\"Baseline\")\n",
        "!cd CloserLookFewShot/ && python3 ./train.py --dataset CIFARFS --model Conv4 --method baseline --start_epoch 0 --stop_epoch $stop_epoch --train_n_way 3 --test_n_way 3 --n_shot $n_shot\n",
        "!cd CloserLookFewShot/ && python3 ./save_features.py --dataset CIFARFS --model Conv4 --method baseline --save_iter $save_iter --train_n_way 3 --test_n_way 3 --n_shot $n_shot\n",
        "!cd CloserLookFewShot/ && python3 ./test.py --dataset CIFARFS --model Conv4 --method baseline --save_iter $save_iter --test_n_way 3 --train_n_way 3 --n_shot $n_shot\n",
        "!cd CloserLookFewShot/ && python3 ./test.py --dataset CIFARFS --model Conv4 --method baseline --save_iter $save_iter --test_n_way 3 --train_n_way 3 --n_shot $n_shot --adaptation\n",
        "print(\"Baseline++\")\n",
        "!cd CloserLookFewShot/ && python3 ./train.py --dataset CIFARFS --model Conv4 --method baseline++ --start_epoch 0 --stop_epoch $stop_epoch --train_n_way 3 --test_n_way 3 --n_shot $n_shot\n",
        "!cd CloserLookFewShot/ && python3 ./save_features.py --dataset CIFARFS --model Conv4 --method baseline++ --save_iter $save_iter --train_n_way 3 --test_n_way 3 --n_shot $n_shot\n",
        "!cd CloserLookFewShot/ && python3 ./test.py --dataset CIFARFS --model Conv4 --method baseline++ --save_iter $save_iter --test_n_way 3 --train_n_way 3 --n_shot $n_shot\n",
        "!cd CloserLookFewShot/ && python3 ./test.py --dataset CIFARFS --model Conv4 --method baseline++ --save_iter $save_iter --test_n_way 3 --train_n_way 3 --n_shot $n_shot --adaptation\n",
        "print(\"relationnet\")\n",
        "!cd CloserLookFewShot/ && python3 ./train.py --dataset CIFARFS --model Conv4 --method relationnet --start_epoch 0 --stop_epoch $stop_epoch --train_n_way 3 --test_n_way 3 --n_shot $n_shot\n",
        "!cd CloserLookFewShot/ && python3 ./save_features.py --dataset CIFARFS --model Conv4 --method relationnet --save_iter $save_iter --train_n_way 3 --test_n_way 3 --n_shot $n_shot\n",
        "!cd CloserLookFewShot/ && python3 ./test.py --dataset CIFARFS --model Conv4 --method relationnet --save_iter $save_iter --test_n_way 3 --train_n_way 3 --n_shot $n_shot\n",
        "print(\"Protonet\")\n",
        "!cd CloserLookFewShot/ && python3 ./train.py --dataset CIFARFS --model Conv4 --method protonet --start_epoch 0 --stop_epoch $stop_epoch --train_n_way 3 --test_n_way 3 --n_shot $n_shot\n",
        "!cd CloserLookFewShot/ && python3 ./save_features.py --dataset CIFARFS --model Conv4 --method protonet --save_iter $save_iter --train_n_way 3 --test_n_way 3 --n_shot $n_shot\n",
        "!cd CloserLookFewShot/ && python3 ./test.py --dataset CIFARFS --model Conv4 --method protonet --save_iter $save_iter --test_n_way 3 --train_n_way 3 --n_shot $n_shot\n",
        "!cd CloserLookFewShot/ && python3 ./test.py --dataset CIFARFS --model Conv4 --method protonet --save_iter $save_iter --test_n_way 3 --train_n_way 3 --n_shot $n_shot --adaptation"
      ],
      "execution_count": 0,
      "outputs": []
    },
    {
      "cell_type": "code",
      "metadata": {
        "colab_type": "code",
        "id": "xy3IHDT_RzY3",
        "colab": {}
      },
      "source": [
        "%env n_shot=2\n",
        "print(\"\\n n_shot: 2 \\n\")\n",
        "print(\"Baseline\")\n",
        "!cd CloserLookFewShot/ && python3 ./train.py --dataset CIFARFS --model Conv4 --method baseline --start_epoch 0 --stop_epoch $stop_epoch --train_n_way 3 --test_n_way 3 --n_shot $n_shot\n",
        "!cd CloserLookFewShot/ && python3 ./save_features.py --dataset CIFARFS --model Conv4 --method baseline --save_iter $save_iter --train_n_way 3 --test_n_way 3 --n_shot $n_shot\n",
        "!cd CloserLookFewShot/ && python3 ./test.py --dataset CIFARFS --model Conv4 --method baseline --save_iter $save_iter --test_n_way 3 --train_n_way 3 --n_shot $n_shot\n",
        "!cd CloserLookFewShot/ && python3 ./test.py --dataset CIFARFS --model Conv4 --method baseline --save_iter $save_iter --test_n_way 3 --train_n_way 3 --n_shot $n_shot --adaptation\n",
        "print(\"Baseline++\")\n",
        "!cd CloserLookFewShot/ && python3 ./train.py --dataset CIFARFS --model Conv4 --method baseline++ --start_epoch 0 --stop_epoch $stop_epoch --train_n_way 3 --test_n_way 3 --n_shot $n_shot\n",
        "!cd CloserLookFewShot/ && python3 ./save_features.py --dataset CIFARFS --model Conv4 --method baseline++ --save_iter $save_iter --train_n_way 3 --test_n_way 3 --n_shot $n_shot\n",
        "!cd CloserLookFewShot/ && python3 ./test.py --dataset CIFARFS --model Conv4 --method baseline++ --save_iter $save_iter --test_n_way 3 --train_n_way 3 --n_shot $n_shot\n",
        "!cd CloserLookFewShot/ && python3 ./test.py --dataset CIFARFS --model Conv4 --method baseline++ --save_iter $save_iter --test_n_way 3 --train_n_way 3 --n_shot $n_shot --adaptation\n",
        "print(\"relationnet\")\n",
        "!cd CloserLookFewShot/ && python3 ./train.py --dataset CIFARFS --model Conv4 --method relationnet --start_epoch 0 --stop_epoch $stop_epoch --train_n_way 3 --test_n_way 3 --n_shot $n_shot\n",
        "!cd CloserLookFewShot/ && python3 ./save_features.py --dataset CIFARFS --model Conv4 --method relationnet --save_iter $save_iter --train_n_way 3 --test_n_way 3 --n_shot $n_shot\n",
        "!cd CloserLookFewShot/ && python3 ./test.py --dataset CIFARFS --model Conv4 --method relationnet --save_iter $save_iter --test_n_way 3 --train_n_way 3 --n_shot $n_shot\n",
        "print(\"Protonet\")\n",
        "!cd CloserLookFewShot/ && python3 ./train.py --dataset CIFARFS --model Conv4 --method protonet --start_epoch 0 --stop_epoch $stop_epoch --train_n_way 3 --test_n_way 3 --n_shot $n_shot\n",
        "!cd CloserLookFewShot/ && python3 ./save_features.py --dataset CIFARFS --model Conv4 --method protonet --save_iter $save_iter --train_n_way 3 --test_n_way 3 --n_shot $n_shot\n",
        "!cd CloserLookFewShot/ && python3 ./test.py --dataset CIFARFS --model Conv4 --method protonet --save_iter $save_iter --test_n_way 3 --train_n_way 3 --n_shot $n_shot\n",
        "!cd CloserLookFewShot/ && python3 ./test.py --dataset CIFARFS --model Conv4 --method protonet --save_iter $save_iter --test_n_way 3 --train_n_way 3 --n_shot $n_shot --adaptation"
      ],
      "execution_count": 0,
      "outputs": []
    },
    {
      "cell_type": "code",
      "metadata": {
        "id": "W-skx_YZW80l",
        "colab_type": "code",
        "colab": {}
      },
      "source": [
        "print(\"Protonet+\")\n",
        "!cd CloserLookFewShot/ && python3 ./train.py --dataset CIFARFS --model Conv4 --method protonetn --start_epoch 0 --stop_epoch $stop_epoch --train_n_way 3 --test_n_way 3 --n_shot $n_shot\n",
        "!cd CloserLookFewShot/ && python3 ./test.py --dataset CIFARFS --model Conv4 --method protonetn --save_iter $save_iter --test_n_way 3 --train_n_way 3 --n_shot $n_shot "
      ],
      "execution_count": 0,
      "outputs": []
    },
    {
      "cell_type": "code",
      "metadata": {
        "colab_type": "code",
        "id": "sG-NpvY0RzZG",
        "colab": {}
      },
      "source": [
        "%env n_shot=5\n",
        "print(\"\\n n_shot: 5 \\n\")\n",
        "print(\"Baseline\")\n",
        "!cd CloserLookFewShot/ && python3 ./train.py --dataset CIFARFS --model Conv4 --method baseline --start_epoch 0 --stop_epoch $stop_epoch --train_n_way 3 --test_n_way 3 --n_shot $n_shot\n",
        "!cd CloserLookFewShot/ && python3 ./save_features.py --dataset CIFARFS --model Conv4 --method baseline --save_iter $save_iter --train_n_way 3 --test_n_way 3 --n_shot $n_shot\n",
        "!cd CloserLookFewShot/ && python3 ./test.py --dataset CIFARFS --model Conv4 --method baseline --save_iter $save_iter --test_n_way 3 --train_n_way 3 --n_shot $n_shot\n",
        "!cd CloserLookFewShot/ && python3 ./test.py --dataset CIFARFS --model Conv4 --method baseline --save_iter $save_iter --test_n_way 3 --train_n_way 3 --n_shot $n_shot --adaptation\n",
        "print(\"Baseline++\")\n",
        "!cd CloserLookFewShot/ && python3 ./train.py --dataset CIFARFS --model Conv4 --method baseline++ --start_epoch 0 --stop_epoch $stop_epoch --train_n_way 3 --test_n_way 3 --n_shot $n_shot\n",
        "!cd CloserLookFewShot/ && python3 ./save_features.py --dataset CIFARFS --model Conv4 --method baseline++ --save_iter $save_iter --train_n_way 3 --test_n_way 3 --n_shot $n_shot\n",
        "!cd CloserLookFewShot/ && python3 ./test.py --dataset CIFARFS --model Conv4 --method baseline++ --save_iter $save_iter --test_n_way 3 --train_n_way 3 --n_shot $n_shot\n",
        "!cd CloserLookFewShot/ && python3 ./test.py --dataset CIFARFS --model Conv4 --method baseline++ --save_iter $save_iter --test_n_way 3 --train_n_way 3 --n_shot $n_shot --adaptation\n",
        "print(\"relationnet\")\n",
        "!cd CloserLookFewShot/ && python3 ./train.py --dataset CIFARFS --model Conv4 --method relationnet --start_epoch 0 --stop_epoch $stop_epoch --train_n_way 3 --test_n_way 3 --n_shot $n_shot\n",
        "!cd CloserLookFewShot/ && python3 ./save_features.py --dataset CIFARFS --model Conv4 --method relationnet --save_iter $save_iter --train_n_way 3 --test_n_way 3 --n_shot $n_shot\n",
        "!cd CloserLookFewShot/ && python3 ./test.py --dataset CIFARFS --model Conv4 --method relationnet --save_iter $save_iter --test_n_way 3 --train_n_way 3 --n_shot $n_shot\n",
        "!cd CloserLookFewShot/ && python3 ./test.py --dataset CIFARFS --model Conv4 --method relationnet --save_iter $save_iter --test_n_way 3 --train_n_way 3 --n_shot $n_shot --adaptation\n",
        "print(\"Protonet\")\n",
        "!cd CloserLookFewShot/ && python3 ./train.py --dataset CIFARFS --model Conv4 --method protonet --start_epoch 0 --stop_epoch $stop_epoch --train_n_way 3 --test_n_way 3 --n_shot $n_shot\n",
        "!cd CloserLookFewShot/ && python3 ./save_features.py --dataset CIFARFS --model Conv4 --method protonet --save_iter $save_iter --train_n_way 3 --test_n_way 3 --n_shot $n_shot\n",
        "!cd CloserLookFewShot/ && python3 ./test.py --dataset CIFARFS --model Conv4 --method protonet --save_iter $save_iter --test_n_way 3 --train_n_way 3 --n_shot $n_shot\n",
        "!cd CloserLookFewShot/ && python3 ./test.py --dataset CIFARFS --model Conv4 --method protonet --save_iter $save_iter --test_n_way 3 --train_n_way 3 --n_shot $n_shot --adaptation"
      ],
      "execution_count": 0,
      "outputs": []
    },
    {
      "cell_type": "code",
      "metadata": {
        "id": "HgHGdJZUW80t",
        "colab_type": "code",
        "colab": {}
      },
      "source": [
        "print(\"Protonet+\")\n",
        "!cd CloserLookFewShot/ && python3 ./train.py --dataset CIFARFS --model Conv4 --method protonetn --start_epoch 0 --stop_epoch $stop_epoch --train_n_way 3 --test_n_way 3 --n_shot $n_shot\n",
        "!cd CloserLookFewShot/ && python3 ./test.py --dataset CIFARFS --model Conv4 --method protonetn --save_iter $save_iter --test_n_way 3 --train_n_way 3 --n_shot $n_shot"
      ],
      "execution_count": 0,
      "outputs": []
    },
    {
      "cell_type": "markdown",
      "metadata": {
        "colab_type": "text",
        "id": "WF6ozzeoSqHl"
      },
      "source": [
        "# Land animals -> insects"
      ]
    },
    {
      "cell_type": "code",
      "metadata": {
        "colab_type": "code",
        "id": "yoT0wsOXPFX9",
        "colab": {}
      },
      "source": [
        "# Get current source code\n",
        "# Land animals -> insects\n",
        "!rm -r CloserLookFewShot\n",
        "!git clone https://github.com/Baschdl/CloserLookFewShot.git\n",
        "!cd CloserLookFewShot/ && git checkout master # Change to branch you want to start training from.\n",
        "# Download CIFAR-FS dataset\n",
        "!cd CloserLookFewShot/filelists/CIFARFS && ./download_Cifar.sh\n",
        "# Create train, val, test split\n",
        "from CloserLookFewShot.filelists.CIFARFS.generate_cross_domain_split import generate_cross_domain_split\n",
        "base_classes = [\"bear\", \"leopard\", \"lion\", \"tiger\", \"cattle\", \"chimpanzee\", \"elephant\"]\n",
        "val_classes = [\"wolf\", \"kangaroo\", \"camel\"]\n",
        "novel_classes = [\"bee\", \"beetle\", \"cockroach\"]\n",
        "generate_cross_domain_split(base_classes, val_classes, novel_classes)\n",
        "%env save_iter=-1"
      ],
      "execution_count": 0,
      "outputs": []
    },
    {
      "cell_type": "code",
      "metadata": {
        "colab_type": "code",
        "id": "qy8w-Br0R1YM",
        "colab": {}
      },
      "source": [
        "%env n_shot=1\n",
        "print(\"\\n n_shot: 1 \\n\")\n",
        "print(\"Baseline\")\n",
        "!cd CloserLookFewShot/ && python3 ./train.py --dataset CIFARFS --model Conv4 --method baseline --start_epoch 0 --stop_epoch $stop_epoch --train_n_way 3 --test_n_way 3 --n_shot $n_shot\n",
        "!cd CloserLookFewShot/ && python3 ./save_features.py --dataset CIFARFS --model Conv4 --method baseline --save_iter $save_iter --train_n_way 3 --test_n_way 3 --n_shot $n_shot\n",
        "!cd CloserLookFewShot/ && python3 ./test.py --dataset CIFARFS --model Conv4 --method baseline --save_iter $save_iter --test_n_way 3 --train_n_way 3 --n_shot $n_shot\n",
        "!cd CloserLookFewShot/ && python3 ./test.py --dataset CIFARFS --model Conv4 --method baseline --save_iter $save_iter --test_n_way 3 --train_n_way 3 --n_shot $n_shot --adaptation\n",
        "print(\"Baseline++\")\n",
        "!cd CloserLookFewShot/ && python3 ./train.py --dataset CIFARFS --model Conv4 --method baseline++ --start_epoch 0 --stop_epoch $stop_epoch --train_n_way 3 --test_n_way 3 --n_shot $n_shot\n",
        "!cd CloserLookFewShot/ && python3 ./save_features.py --dataset CIFARFS --model Conv4 --method baseline++ --save_iter $save_iter --train_n_way 3 --test_n_way 3 --n_shot $n_shot\n",
        "!cd CloserLookFewShot/ && python3 ./test.py --dataset CIFARFS --model Conv4 --method baseline++ --save_iter $save_iter --test_n_way 3 --train_n_way 3 --n_shot $n_shot\n",
        "!cd CloserLookFewShot/ && python3 ./test.py --dataset CIFARFS --model Conv4 --method baseline++ --save_iter $save_iter --test_n_way 3 --train_n_way 3 --n_shot $n_shot --adaptation\n",
        "print(\"relationnet\")\n",
        "!cd CloserLookFewShot/ && python3 ./train.py --dataset CIFARFS --model Conv4 --method relationnet --start_epoch 0 --stop_epoch $stop_epoch --train_n_way 3 --test_n_way 3 --n_shot $n_shot\n",
        "!cd CloserLookFewShot/ && python3 ./save_features.py --dataset CIFARFS --model Conv4 --method relationnet --save_iter $save_iter --train_n_way 3 --test_n_way 3 --n_shot $n_shot\n",
        "!cd CloserLookFewShot/ && python3 ./test.py --dataset CIFARFS --model Conv4 --method relationnet --save_iter $save_iter --test_n_way 3 --train_n_way 3 --n_shot $n_shot\n",
        "print(\"Protonet\")\n",
        "!cd CloserLookFewShot/ && python3 ./train.py --dataset CIFARFS --model Conv4 --method protonet --start_epoch 0 --stop_epoch $stop_epoch --train_n_way 3 --test_n_way 3 --n_shot $n_shot\n",
        "!cd CloserLookFewShot/ && python3 ./save_features.py --dataset CIFARFS --model Conv4 --method protonet --save_iter $save_iter --train_n_way 3 --test_n_way 3 --n_shot $n_shot\n",
        "!cd CloserLookFewShot/ && python3 ./test.py --dataset CIFARFS --model Conv4 --method protonet --save_iter $save_iter --test_n_way 3 --train_n_way 3 --n_shot $n_shot\n",
        "!cd CloserLookFewShot/ && python3 ./test.py --dataset CIFARFS --model Conv4 --method protonet --save_iter $save_iter --test_n_way 3 --train_n_way 3 --n_shot $n_shot --adaptation"
      ],
      "execution_count": 0,
      "outputs": []
    },
    {
      "cell_type": "code",
      "metadata": {
        "colab_type": "code",
        "id": "PabXtY82R1Yn",
        "colab": {}
      },
      "source": [
        "%env n_shot=2\n",
        "print(\"\\n n_shot: 2 \\n\")\n",
        "print(\"Baseline\")\n",
        "!cd CloserLookFewShot/ && python3 ./train.py --dataset CIFARFS --model Conv4 --method baseline --start_epoch 0 --stop_epoch $stop_epoch --train_n_way 3 --test_n_way 3 --n_shot $n_shot\n",
        "!cd CloserLookFewShot/ && python3 ./save_features.py --dataset CIFARFS --model Conv4 --method baseline --save_iter $save_iter --train_n_way 3 --test_n_way 3 --n_shot $n_shot\n",
        "!cd CloserLookFewShot/ && python3 ./test.py --dataset CIFARFS --model Conv4 --method baseline --save_iter $save_iter --test_n_way 3 --train_n_way 3 --n_shot $n_shot\n",
        "!cd CloserLookFewShot/ && python3 ./test.py --dataset CIFARFS --model Conv4 --method baseline --save_iter $save_iter --test_n_way 3 --train_n_way 3 --n_shot $n_shot --adaptation\n",
        "print(\"Baseline++\")\n",
        "!cd CloserLookFewShot/ && python3 ./train.py --dataset CIFARFS --model Conv4 --method baseline++ --start_epoch 0 --stop_epoch $stop_epoch --train_n_way 3 --test_n_way 3 --n_shot $n_shot\n",
        "!cd CloserLookFewShot/ && python3 ./save_features.py --dataset CIFARFS --model Conv4 --method baseline++ --save_iter $save_iter --train_n_way 3 --test_n_way 3 --n_shot $n_shot\n",
        "!cd CloserLookFewShot/ && python3 ./test.py --dataset CIFARFS --model Conv4 --method baseline++ --save_iter $save_iter --test_n_way 3 --train_n_way 3 --n_shot $n_shot\n",
        "!cd CloserLookFewShot/ && python3 ./test.py --dataset CIFARFS --model Conv4 --method baseline++ --save_iter $save_iter --test_n_way 3 --train_n_way 3 --n_shot $n_shot --adaptation\n",
        "print(\"relationnet\")\n",
        "!cd CloserLookFewShot/ && python3 ./train.py --dataset CIFARFS --model Conv4 --method relationnet --start_epoch 0 --stop_epoch $stop_epoch --train_n_way 3 --test_n_way 3 --n_shot $n_shot\n",
        "!cd CloserLookFewShot/ && python3 ./save_features.py --dataset CIFARFS --model Conv4 --method relationnet --save_iter $save_iter --train_n_way 3 --test_n_way 3 --n_shot $n_shot\n",
        "!cd CloserLookFewShot/ && python3 ./test.py --dataset CIFARFS --model Conv4 --method relationnet --save_iter $save_iter --test_n_way 3 --train_n_way 3 --n_shot $n_shot\n",
        "print(\"Protonet\")\n",
        "!cd CloserLookFewShot/ && python3 ./train.py --dataset CIFARFS --model Conv4 --method protonet --start_epoch 0 --stop_epoch $stop_epoch --train_n_way 3 --test_n_way 3 --n_shot $n_shot\n",
        "!cd CloserLookFewShot/ && python3 ./save_features.py --dataset CIFARFS --model Conv4 --method protonet --save_iter $save_iter --train_n_way 3 --test_n_way 3 --n_shot $n_shot\n",
        "!cd CloserLookFewShot/ && python3 ./test.py --dataset CIFARFS --model Conv4 --method protonet --save_iter $save_iter --test_n_way 3 --train_n_way 3 --n_shot $n_shot\n",
        "!cd CloserLookFewShot/ && python3 ./test.py --dataset CIFARFS --model Conv4 --method protonet --save_iter $save_iter --test_n_way 3 --train_n_way 3 --n_shot $n_shot --adaptation"
      ],
      "execution_count": 0,
      "outputs": []
    },
    {
      "cell_type": "code",
      "metadata": {
        "id": "jc1MztjBW807",
        "colab_type": "code",
        "colab": {}
      },
      "source": [
        "print(\"Protonet+\")\n",
        "!cd CloserLookFewShot/ && python3 ./train.py --dataset CIFARFS --model Conv4 --method protonetn --start_epoch 0 --stop_epoch $stop_epoch --train_n_way 3 --test_n_way 3 --n_shot $n_shot\n",
        "!cd CloserLookFewShot/ && python3 ./test.py --dataset CIFARFS --model Conv4 --method protonetn --save_iter $save_iter --test_n_way 3 --train_n_way 3 --n_shot $n_shot "
      ],
      "execution_count": 0,
      "outputs": []
    },
    {
      "cell_type": "code",
      "metadata": {
        "colab_type": "code",
        "id": "CLTUucO9R1Yz",
        "colab": {}
      },
      "source": [
        "%env n_shot=5\n",
        "print(\"\\n n_shot: 5 \\n\")\n",
        "print(\"Baseline\")\n",
        "!cd CloserLookFewShot/ && python3 ./train.py --dataset CIFARFS --model Conv4 --method baseline --start_epoch 0 --stop_epoch $stop_epoch --train_n_way 3 --test_n_way 3 --n_shot $n_shot\n",
        "!cd CloserLookFewShot/ && python3 ./save_features.py --dataset CIFARFS --model Conv4 --method baseline --save_iter $save_iter --train_n_way 3 --test_n_way 3 --n_shot $n_shot\n",
        "!cd CloserLookFewShot/ && python3 ./test.py --dataset CIFARFS --model Conv4 --method baseline --save_iter $save_iter --test_n_way 3 --train_n_way 3 --n_shot $n_shot\n",
        "!cd CloserLookFewShot/ && python3 ./test.py --dataset CIFARFS --model Conv4 --method baseline --save_iter $save_iter --test_n_way 3 --train_n_way 3 --n_shot $n_shot --adaptation\n",
        "print(\"Baseline++\")\n",
        "!cd CloserLookFewShot/ && python3 ./train.py --dataset CIFARFS --model Conv4 --method baseline++ --start_epoch 0 --stop_epoch $stop_epoch --train_n_way 3 --test_n_way 3 --n_shot $n_shot\n",
        "!cd CloserLookFewShot/ && python3 ./save_features.py --dataset CIFARFS --model Conv4 --method baseline++ --save_iter $save_iter --train_n_way 3 --test_n_way 3 --n_shot $n_shot\n",
        "!cd CloserLookFewShot/ && python3 ./test.py --dataset CIFARFS --model Conv4 --method baseline++ --save_iter $save_iter --test_n_way 3 --train_n_way 3 --n_shot $n_shot\n",
        "!cd CloserLookFewShot/ && python3 ./test.py --dataset CIFARFS --model Conv4 --method baseline++ --save_iter $save_iter --test_n_way 3 --train_n_way 3 --n_shot $n_shot --adaptation\n",
        "print(\"relationnet\")\n",
        "!cd CloserLookFewShot/ && python3 ./train.py --dataset CIFARFS --model Conv4 --method relationnet --start_epoch 0 --stop_epoch $stop_epoch --train_n_way 3 --test_n_way 3 --n_shot $n_shot\n",
        "!cd CloserLookFewShot/ && python3 ./save_features.py --dataset CIFARFS --model Conv4 --method relationnet --save_iter $save_iter --train_n_way 3 --test_n_way 3 --n_shot $n_shot\n",
        "!cd CloserLookFewShot/ && python3 ./test.py --dataset CIFARFS --model Conv4 --method relationnet --save_iter $save_iter --test_n_way 3 --train_n_way 3 --n_shot $n_shot\n",
        "!cd CloserLookFewShot/ && python3 ./test.py --dataset CIFARFS --model Conv4 --method relationnet --save_iter $save_iter --test_n_way 3 --train_n_way 3 --n_shot $n_shot --adaptation\n",
        "print(\"Protonet\")\n",
        "!cd CloserLookFewShot/ && python3 ./train.py --dataset CIFARFS --model Conv4 --method protonet --start_epoch 0 --stop_epoch $stop_epoch --train_n_way 3 --test_n_way 3 --n_shot $n_shot\n",
        "!cd CloserLookFewShot/ && python3 ./save_features.py --dataset CIFARFS --model Conv4 --method protonet --save_iter $save_iter --train_n_way 3 --test_n_way 3 --n_shot $n_shot\n",
        "!cd CloserLookFewShot/ && python3 ./test.py --dataset CIFARFS --model Conv4 --method protonet --save_iter $save_iter --test_n_way 3 --train_n_way 3 --n_shot $n_shot\n",
        "!cd CloserLookFewShot/ && python3 ./test.py --dataset CIFARFS --model Conv4 --method protonet --save_iter $save_iter --test_n_way 3 --train_n_way 3 --n_shot $n_shot --adaptation"
      ],
      "execution_count": 0,
      "outputs": []
    },
    {
      "cell_type": "code",
      "metadata": {
        "id": "IKUA3VivW81C",
        "colab_type": "code",
        "colab": {}
      },
      "source": [
        "print(\"Protonet+\")\n",
        "!cd CloserLookFewShot/ && python3 ./train.py --dataset CIFARFS --model Conv4 --method protonetn --start_epoch 0 --stop_epoch $stop_epoch --train_n_way 3 --test_n_way 3 --n_shot $n_shot\n",
        "!cd CloserLookFewShot/ && python3 ./test.py --dataset CIFARFS --model Conv4 --method protonetn --save_iter $save_iter --test_n_way 3 --train_n_way 3 --n_shot $n_shot  "
      ],
      "execution_count": 0,
      "outputs": []
    },
    {
      "cell_type": "markdown",
      "metadata": {
        "colab_type": "text",
        "id": "q-H28eUwS6FH"
      },
      "source": [
        "# Land animals -> aquatic_mammals"
      ]
    },
    {
      "cell_type": "code",
      "metadata": {
        "colab_type": "code",
        "id": "ZhVu9b5GPQKt",
        "colab": {}
      },
      "source": [
        "# Get current source code\n",
        "# Land animals -> aquatic_mammals\n",
        "!rm -r CloserLookFewShot\n",
        "!git clone https://github.com/Baschdl/CloserLookFewShot.git\n",
        "!cd CloserLookFewShot/ && git checkout master # Change to branch you want to start training from.\n",
        "# Download CIFAR-FS dataset\n",
        "!cd CloserLookFewShot/filelists/CIFARFS && ./download_Cifar.sh\n",
        "# Create train, val, test split\n",
        "from CloserLookFewShot.filelists.CIFARFS.generate_cross_domain_split import generate_cross_domain_split\n",
        "base_classes = [\"bear\", \"leopard\", \"lion\", \"camel\", \"cattle\", \"chimpanzee\", \"elephant\"]\n",
        "val_classes = [\"wolf\", \"kangaroo\", \"camel\"]\n",
        "novel_classes = [\"beaver\", \"otter\", \"whale\"]\n",
        "# \"tiger\", \"wolf\", \"kangaroo\", no domain shift\n",
        "generate_cross_domain_split(base_classes, val_classes, novel_classes)\n",
        "%env save_iter=-1"
      ],
      "execution_count": 0,
      "outputs": []
    },
    {
      "cell_type": "code",
      "metadata": {
        "colab_type": "code",
        "id": "xMZMNyLMR2vp",
        "colab": {}
      },
      "source": [
        "%env n_shot=1\n",
        "print(\"\\n n_shot: 1 \\n\")\n",
        "print(\"Baseline\")\n",
        "!cd CloserLookFewShot/ && python3 ./train.py --dataset CIFARFS --model Conv4 --method baseline --start_epoch 0 --stop_epoch $stop_epoch --train_n_way 3 --test_n_way 3 --n_shot $n_shot\n",
        "!cd CloserLookFewShot/ && python3 ./save_features.py --dataset CIFARFS --model Conv4 --method baseline --save_iter $save_iter --train_n_way 3 --test_n_way 3 --n_shot $n_shot\n",
        "!cd CloserLookFewShot/ && python3 ./test.py --dataset CIFARFS --model Conv4 --method baseline --save_iter $save_iter --test_n_way 3 --train_n_way 3 --n_shot $n_shot\n",
        "!cd CloserLookFewShot/ && python3 ./test.py --dataset CIFARFS --model Conv4 --method baseline --save_iter $save_iter --test_n_way 3 --train_n_way 3 --n_shot $n_shot --adaptation\n",
        "print(\"Baseline++\")\n",
        "!cd CloserLookFewShot/ && python3 ./train.py --dataset CIFARFS --model Conv4 --method baseline++ --start_epoch 0 --stop_epoch $stop_epoch --train_n_way 3 --test_n_way 3 --n_shot $n_shot\n",
        "!cd CloserLookFewShot/ && python3 ./save_features.py --dataset CIFARFS --model Conv4 --method baseline++ --save_iter $save_iter --train_n_way 3 --test_n_way 3 --n_shot $n_shot\n",
        "!cd CloserLookFewShot/ && python3 ./test.py --dataset CIFARFS --model Conv4 --method baseline++ --save_iter $save_iter --test_n_way 3 --train_n_way 3 --n_shot $n_shot\n",
        "!cd CloserLookFewShot/ && python3 ./test.py --dataset CIFARFS --model Conv4 --method baseline++ --save_iter $save_iter --test_n_way 3 --train_n_way 3 --n_shot $n_shot --adaptation\n",
        "print(\"relationnet\")\n",
        "!cd CloserLookFewShot/ && python3 ./train.py --dataset CIFARFS --model Conv4 --method relationnet --start_epoch 0 --stop_epoch $stop_epoch --train_n_way 3 --test_n_way 3 --n_shot $n_shot\n",
        "!cd CloserLookFewShot/ && python3 ./save_features.py --dataset CIFARFS --model Conv4 --method relationnet --save_iter $save_iter --train_n_way 3 --test_n_way 3 --n_shot $n_shot\n",
        "!cd CloserLookFewShot/ && python3 ./test.py --dataset CIFARFS --model Conv4 --method relationnet --save_iter $save_iter --test_n_way 3 --train_n_way 3 --n_shot $n_shot\n",
        "print(\"Protonet\")\n",
        "!cd CloserLookFewShot/ && python3 ./train.py --dataset CIFARFS --model Conv4 --method protonet --start_epoch 0 --stop_epoch $stop_epoch --train_n_way 3 --test_n_way 3 --n_shot $n_shot\n",
        "!cd CloserLookFewShot/ && python3 ./save_features.py --dataset CIFARFS --model Conv4 --method protonet --save_iter $save_iter --train_n_way 3 --test_n_way 3 --n_shot $n_shot\n",
        "!cd CloserLookFewShot/ && python3 ./test.py --dataset CIFARFS --model Conv4 --method protonet --save_iter $save_iter --test_n_way 3 --train_n_way 3 --n_shot $n_shot\n",
        "!cd CloserLookFewShot/ && python3 ./test.py --dataset CIFARFS --model Conv4 --method protonet --save_iter $save_iter --test_n_way 3 --train_n_way 3 --n_shot $n_shot --adaptation"
      ],
      "execution_count": 0,
      "outputs": []
    },
    {
      "cell_type": "code",
      "metadata": {
        "colab_type": "code",
        "id": "HvMjnvp4R2v2",
        "colab": {}
      },
      "source": [
        "%env n_shot=2\n",
        "print(\"\\n n_shot: 2 \\n\")\n",
        "print(\"Baseline\")\n",
        "!cd CloserLookFewShot/ && python3 ./train.py --dataset CIFARFS --model Conv4 --method baseline --start_epoch 0 --stop_epoch $stop_epoch --train_n_way 3 --test_n_way 3 --n_shot $n_shot\n",
        "!cd CloserLookFewShot/ && python3 ./save_features.py --dataset CIFARFS --model Conv4 --method baseline --save_iter $save_iter --train_n_way 3 --test_n_way 3 --n_shot $n_shot\n",
        "!cd CloserLookFewShot/ && python3 ./test.py --dataset CIFARFS --model Conv4 --method baseline --save_iter $save_iter --test_n_way 3 --train_n_way 3 --n_shot $n_shot\n",
        "!cd CloserLookFewShot/ && python3 ./test.py --dataset CIFARFS --model Conv4 --method baseline --save_iter $save_iter --test_n_way 3 --train_n_way 3 --n_shot $n_shot --adaptation\n",
        "print(\"Baseline++\")\n",
        "!cd CloserLookFewShot/ && python3 ./train.py --dataset CIFARFS --model Conv4 --method baseline++ --start_epoch 0 --stop_epoch $stop_epoch --train_n_way 3 --test_n_way 3 --n_shot $n_shot\n",
        "!cd CloserLookFewShot/ && python3 ./save_features.py --dataset CIFARFS --model Conv4 --method baseline++ --save_iter $save_iter --train_n_way 3 --test_n_way 3 --n_shot $n_shot\n",
        "!cd CloserLookFewShot/ && python3 ./test.py --dataset CIFARFS --model Conv4 --method baseline++ --save_iter $save_iter --test_n_way 3 --train_n_way 3 --n_shot $n_shot\n",
        "!cd CloserLookFewShot/ && python3 ./test.py --dataset CIFARFS --model Conv4 --method baseline++ --save_iter $save_iter --test_n_way 3 --train_n_way 3 --n_shot $n_shot --adaptation\n",
        "print(\"relationnet\")\n",
        "!cd CloserLookFewShot/ && python3 ./train.py --dataset CIFARFS --model Conv4 --method relationnet --start_epoch 0 --stop_epoch $stop_epoch --train_n_way 3 --test_n_way 3 --n_shot $n_shot\n",
        "!cd CloserLookFewShot/ && python3 ./save_features.py --dataset CIFARFS --model Conv4 --method relationnet --save_iter $save_iter --train_n_way 3 --test_n_way 3 --n_shot $n_shot\n",
        "!cd CloserLookFewShot/ && python3 ./test.py --dataset CIFARFS --model Conv4 --method relationnet --save_iter $save_iter --test_n_way 3 --train_n_way 3 --n_shot $n_shot\n",
        "print(\"Protonet\")\n",
        "!cd CloserLookFewShot/ && python3 ./train.py --dataset CIFARFS --model Conv4 --method protonet --start_epoch 0 --stop_epoch $stop_epoch --train_n_way 3 --test_n_way 3 --n_shot $n_shot\n",
        "!cd CloserLookFewShot/ && python3 ./save_features.py --dataset CIFARFS --model Conv4 --method protonet --save_iter $save_iter --train_n_way 3 --test_n_way 3 --n_shot $n_shot\n",
        "!cd CloserLookFewShot/ && python3 ./test.py --dataset CIFARFS --model Conv4 --method protonet --save_iter $save_iter --test_n_way 3 --train_n_way 3 --n_shot $n_shot\n",
        "!cd CloserLookFewShot/ && python3 ./test.py --dataset CIFARFS --model Conv4 --method protonet --save_iter $save_iter --test_n_way 3 --train_n_way 3 --n_shot $n_shot --adaptation"
      ],
      "execution_count": 0,
      "outputs": []
    },
    {
      "cell_type": "code",
      "metadata": {
        "colab_type": "code",
        "id": "NEAPABUF63I2",
        "colab": {}
      },
      "source": [
        "print(\"Protonet+\")\n",
        "!cd CloserLookFewShot/ && python3 ./train.py --dataset CIFARFS --model Conv4 --method protonetn --start_epoch 0 --stop_epoch $stop_epoch --train_n_way 3 --test_n_way 3 --n_shot $n_shot\n",
        "!cd CloserLookFewShot/ && python3 ./test.py --dataset CIFARFS --model Conv4 --method protonetn --save_iter $save_iter --test_n_way 3 --train_n_way 3 --n_shot $n_shot "
      ],
      "execution_count": 0,
      "outputs": []
    },
    {
      "cell_type": "code",
      "metadata": {
        "colab_type": "code",
        "id": "AQD7i_WTR2v_",
        "colab": {}
      },
      "source": [
        "%env n_shot=5\n",
        "print(\"\\n n_shot: 5 \\n\")\n",
        "print(\"Baseline\")\n",
        "!cd CloserLookFewShot/ && python3 ./train.py --dataset CIFARFS --model Conv4 --method baseline --start_epoch 0 --stop_epoch $stop_epoch --train_n_way 3 --test_n_way 3 --n_shot $n_shot\n",
        "!cd CloserLookFewShot/ && python3 ./save_features.py --dataset CIFARFS --model Conv4 --method baseline --save_iter $save_iter --train_n_way 3 --test_n_way 3 --n_shot $n_shot\n",
        "!cd CloserLookFewShot/ && python3 ./test.py --dataset CIFARFS --model Conv4 --method baseline --save_iter $save_iter --test_n_way 3 --train_n_way 3 --n_shot $n_shot\n",
        "!cd CloserLookFewShot/ && python3 ./test.py --dataset CIFARFS --model Conv4 --method baseline --save_iter $save_iter --test_n_way 3 --train_n_way 3 --n_shot $n_shot --adaptation\n",
        "print(\"Baseline++\")\n",
        "!cd CloserLookFewShot/ && python3 ./train.py --dataset CIFARFS --model Conv4 --method baseline++ --start_epoch 0 --stop_epoch $stop_epoch --train_n_way 3 --test_n_way 3 --n_shot $n_shot\n",
        "!cd CloserLookFewShot/ && python3 ./save_features.py --dataset CIFARFS --model Conv4 --method baseline++ --save_iter $save_iter --train_n_way 3 --test_n_way 3 --n_shot $n_shot\n",
        "!cd CloserLookFewShot/ && python3 ./test.py --dataset CIFARFS --model Conv4 --method baseline++ --save_iter $save_iter --test_n_way 3 --train_n_way 3 --n_shot $n_shot\n",
        "!cd CloserLookFewShot/ && python3 ./test.py --dataset CIFARFS --model Conv4 --method baseline++ --save_iter $save_iter --test_n_way 3 --train_n_way 3 --n_shot $n_shot --adaptation\n",
        "print(\"relationnet\")\n",
        "!cd CloserLookFewShot/ && python3 ./train.py --dataset CIFARFS --model Conv4 --method relationnet --start_epoch 0 --stop_epoch $stop_epoch --train_n_way 3 --test_n_way 3 --n_shot $n_shot\n",
        "!cd CloserLookFewShot/ && python3 ./save_features.py --dataset CIFARFS --model Conv4 --method relationnet --save_iter $save_iter --train_n_way 3 --test_n_way 3 --n_shot $n_shot\n",
        "!cd CloserLookFewShot/ && python3 ./test.py --dataset CIFARFS --model Conv4 --method relationnet --save_iter $save_iter --test_n_way 3 --train_n_way 3 --n_shot $n_shot\n",
        "!cd CloserLookFewShot/ && python3 ./test.py --dataset CIFARFS --model Conv4 --method relationnet --save_iter $save_iter --test_n_way 3 --train_n_way 3 --n_shot $n_shot --adaptation\n",
        "print(\"Protonet\")\n",
        "!cd CloserLookFewShot/ && python3 ./train.py --dataset CIFARFS --model Conv4 --method protonet --start_epoch 0 --stop_epoch $stop_epoch --train_n_way 3 --test_n_way 3 --n_shot $n_shot\n",
        "!cd CloserLookFewShot/ && python3 ./save_features.py --dataset CIFARFS --model Conv4 --method protonet --save_iter $save_iter --train_n_way 3 --test_n_way 3 --n_shot $n_shot\n",
        "!cd CloserLookFewShot/ && python3 ./test.py --dataset CIFARFS --model Conv4 --method protonet --save_iter $save_iter --test_n_way 3 --train_n_way 3 --n_shot $n_shot\n",
        "!cd CloserLookFewShot/ && python3 ./test.py --dataset CIFARFS --model Conv4 --method protonet --save_iter $save_iter --test_n_way 3 --train_n_way 3 --n_shot $n_shot --adaptation"
      ],
      "execution_count": 0,
      "outputs": []
    },
    {
      "cell_type": "code",
      "metadata": {
        "id": "bVgp2zaYW81Z",
        "colab_type": "code",
        "colab": {}
      },
      "source": [
        "print(\"Protonet+\")\n",
        "!cd CloserLookFewShot/ && python3 ./train.py --dataset CIFARFS --model Conv4 --method protonetn --start_epoch 0 --stop_epoch $stop_epoch --train_n_way 3 --test_n_way 3 --n_shot $n_shot\n",
        "!cd CloserLookFewShot/ && python3 ./test.py --dataset CIFARFS --model Conv4 --method protonetn --save_iter $save_iter --test_n_way 3 --train_n_way 3 --n_shot $n_shot  "
      ],
      "execution_count": 0,
      "outputs": []
    },
    {
      "cell_type": "markdown",
      "metadata": {
        "colab_type": "text",
        "id": "P6jCtxUSS_RL"
      },
      "source": [
        "# Outdoor scenes and object -> vehicles"
      ]
    },
    {
      "cell_type": "code",
      "metadata": {
        "colab_type": "code",
        "id": "e54_AKc3PiJk",
        "colab": {}
      },
      "source": [
        "# Get current source code\n",
        "# Outdoor scenes and object -> vehicles\n",
        "!rm -r CloserLookFewShot\n",
        "!git clone https://github.com/Baschdl/CloserLookFewShot.git\n",
        "!cd CloserLookFewShot/ && git checkout master # Change to branch you want to start training from.\n",
        "# Download CIFAR-FS dataset\n",
        "!cd CloserLookFewShot/filelists/CIFARFS && ./download_Cifar.sh\n",
        "# Create train, val, test split\n",
        "from CloserLookFewShot.filelists.CIFARFS.generate_cross_domain_split import generate_cross_domain_split\n",
        "base_classes = [\"cloud\", \"forest\", \"mountain\", \"castle\", \"house\", \"road\", \"skyscraper\"]\n",
        "val_classes = [\"plain\", \"sea\", \"bridge\"]\n",
        "novel_classes = [\"bicycle\", \"bus\", \"tractor\"] \n",
        "# \"plain\", \"sea\", \"bridge\", no doamina shift\n",
        "generate_cross_domain_split(base_classes, val_classes, novel_classes)\n",
        "%env save_iter=-1"
      ],
      "execution_count": 0,
      "outputs": []
    },
    {
      "cell_type": "code",
      "metadata": {
        "colab_type": "code",
        "id": "x8P6yEYER3tX",
        "colab": {}
      },
      "source": [
        "%env n_shot=1\n",
        "print(\"\\n n_shot: 1 \\n\")\n",
        "print(\"Baseline\")\n",
        "!cd CloserLookFewShot/ && python3 ./train.py --dataset CIFARFS --model Conv4 --method baseline --start_epoch 0 --stop_epoch $stop_epoch --train_n_way 3 --test_n_way 3 --n_shot $n_shot\n",
        "!cd CloserLookFewShot/ && python3 ./save_features.py --dataset CIFARFS --model Conv4 --method baseline --save_iter $save_iter --train_n_way 3 --test_n_way 3 --n_shot $n_shot\n",
        "!cd CloserLookFewShot/ && python3 ./test.py --dataset CIFARFS --model Conv4 --method baseline --save_iter $save_iter --test_n_way 3 --train_n_way 3 --n_shot $n_shot\n",
        "!cd CloserLookFewShot/ && python3 ./test.py --dataset CIFARFS --model Conv4 --method baseline --save_iter $save_iter --test_n_way 3 --train_n_way 3 --n_shot $n_shot --adaptation\n",
        "print(\"Baseline++\")\n",
        "!cd CloserLookFewShot/ && python3 ./train.py --dataset CIFARFS --model Conv4 --method baseline++ --start_epoch 0 --stop_epoch $stop_epoch --train_n_way 3 --test_n_way 3 --n_shot $n_shot\n",
        "!cd CloserLookFewShot/ && python3 ./save_features.py --dataset CIFARFS --model Conv4 --method baseline++ --save_iter $save_iter --train_n_way 3 --test_n_way 3 --n_shot $n_shot\n",
        "!cd CloserLookFewShot/ && python3 ./test.py --dataset CIFARFS --model Conv4 --method baseline++ --save_iter $save_iter --test_n_way 3 --train_n_way 3 --n_shot $n_shot\n",
        "!cd CloserLookFewShot/ && python3 ./test.py --dataset CIFARFS --model Conv4 --method baseline++ --save_iter $save_iter --test_n_way 3 --train_n_way 3 --n_shot $n_shot --adaptation\n",
        "print(\"relationnet\")\n",
        "!cd CloserLookFewShot/ && python3 ./train.py --dataset CIFARFS --model Conv4 --method relationnet --start_epoch 0 --stop_epoch $stop_epoch --train_n_way 3 --test_n_way 3 --n_shot $n_shot\n",
        "!cd CloserLookFewShot/ && python3 ./save_features.py --dataset CIFARFS --model Conv4 --method relationnet --save_iter $save_iter --train_n_way 3 --test_n_way 3 --n_shot $n_shot\n",
        "!cd CloserLookFewShot/ && python3 ./test.py --dataset CIFARFS --model Conv4 --method relationnet --save_iter $save_iter --test_n_way 3 --train_n_way 3 --n_shot $n_shot\n",
        "print(\"Protonet\")\n",
        "!cd CloserLookFewShot/ && python3 ./train.py --dataset CIFARFS --model Conv4 --method protonet --start_epoch 0 --stop_epoch $stop_epoch --train_n_way 3 --test_n_way 3 --n_shot $n_shot\n",
        "!cd CloserLookFewShot/ && python3 ./save_features.py --dataset CIFARFS --model Conv4 --method protonet --save_iter $save_iter --train_n_way 3 --test_n_way 3 --n_shot $n_shot\n",
        "!cd CloserLookFewShot/ && python3 ./test.py --dataset CIFARFS --model Conv4 --method protonet --save_iter $save_iter --test_n_way 3 --train_n_way 3 --n_shot $n_shot\n",
        "!cd CloserLookFewShot/ && python3 ./test.py --dataset CIFARFS --model Conv4 --method protonet --save_iter $save_iter --test_n_way 3 --train_n_way 3 --n_shot $n_shot --adaptation"
      ],
      "execution_count": 0,
      "outputs": []
    },
    {
      "cell_type": "code",
      "metadata": {
        "colab_type": "code",
        "id": "pGA1dkWzR3tf",
        "colab": {}
      },
      "source": [
        "%env n_shot=2\n",
        "print(\"\\n n_shot: 2 \\n\")\n",
        "print(\"Baseline\")\n",
        "!cd CloserLookFewShot/ && python3 ./train.py --dataset CIFARFS --model Conv4 --method baseline --start_epoch 0 --stop_epoch $stop_epoch --train_n_way 3 --test_n_way 3 --n_shot $n_shot\n",
        "!cd CloserLookFewShot/ && python3 ./save_features.py --dataset CIFARFS --model Conv4 --method baseline --save_iter $save_iter --train_n_way 3 --test_n_way 3 --n_shot $n_shot\n",
        "!cd CloserLookFewShot/ && python3 ./test.py --dataset CIFARFS --model Conv4 --method baseline --save_iter $save_iter --test_n_way 3 --train_n_way 3 --n_shot $n_shot\n",
        "!cd CloserLookFewShot/ && python3 ./test.py --dataset CIFARFS --model Conv4 --method baseline --save_iter $save_iter --test_n_way 3 --train_n_way 3 --n_shot $n_shot --adaptation\n",
        "print(\"Baseline++\")\n",
        "!cd CloserLookFewShot/ && python3 ./train.py --dataset CIFARFS --model Conv4 --method baseline++ --start_epoch 0 --stop_epoch $stop_epoch --train_n_way 3 --test_n_way 3 --n_shot $n_shot\n",
        "!cd CloserLookFewShot/ && python3 ./save_features.py --dataset CIFARFS --model Conv4 --method baseline++ --save_iter $save_iter --train_n_way 3 --test_n_way 3 --n_shot $n_shot\n",
        "!cd CloserLookFewShot/ && python3 ./test.py --dataset CIFARFS --model Conv4 --method baseline++ --save_iter $save_iter --test_n_way 3 --train_n_way 3 --n_shot $n_shot\n",
        "!cd CloserLookFewShot/ && python3 ./test.py --dataset CIFARFS --model Conv4 --method baseline++ --save_iter $save_iter --test_n_way 3 --train_n_way 3 --n_shot $n_shot --adaptation\n",
        "print(\"relationnet\")\n",
        "!cd CloserLookFewShot/ && python3 ./train.py --dataset CIFARFS --model Conv4 --method relationnet --start_epoch 0 --stop_epoch $stop_epoch --train_n_way 3 --test_n_way 3 --n_shot $n_shot\n",
        "!cd CloserLookFewShot/ && python3 ./save_features.py --dataset CIFARFS --model Conv4 --method relationnet --save_iter $save_iter --train_n_way 3 --test_n_way 3 --n_shot $n_shot\n",
        "!cd CloserLookFewShot/ && python3 ./test.py --dataset CIFARFS --model Conv4 --method relationnet --save_iter $save_iter --test_n_way 3 --train_n_way 3 --n_shot $n_shot\n",
        "print(\"Protonet\")\n",
        "!cd CloserLookFewShot/ && python3 ./train.py --dataset CIFARFS --model Conv4 --method protonet --start_epoch 0 --stop_epoch $stop_epoch --train_n_way 3 --test_n_way 3 --n_shot $n_shot\n",
        "!cd CloserLookFewShot/ && python3 ./save_features.py --dataset CIFARFS --model Conv4 --method protonet --save_iter $save_iter --train_n_way 3 --test_n_way 3 --n_shot $n_shot\n",
        "!cd CloserLookFewShot/ && python3 ./test.py --dataset CIFARFS --model Conv4 --method protonet --save_iter $save_iter --test_n_way 3 --train_n_way 3 --n_shot $n_shot\n",
        "!cd CloserLookFewShot/ && python3 ./test.py --dataset CIFARFS --model Conv4 --method protonet --save_iter $save_iter --test_n_way 3 --train_n_way 3 --n_shot $n_shot --adaptation"
      ],
      "execution_count": 0,
      "outputs": []
    },
    {
      "cell_type": "code",
      "metadata": {
        "id": "_J-laXYlW81n",
        "colab_type": "code",
        "colab": {}
      },
      "source": [
        "print(\"Protonet+\")\n",
        "!cd CloserLookFewShot/ && python3 ./train.py --dataset CIFARFS --model Conv4 --method protonetn --start_epoch 0 --stop_epoch $stop_epoch --train_n_way 3 --test_n_way 3 --n_shot $n_shot\n",
        "!cd CloserLookFewShot/ && python3 ./test.py --dataset CIFARFS --model Conv4 --method protonetn --save_iter $save_iter --test_n_way 3 --train_n_way 3 --n_shot $n_shot "
      ],
      "execution_count": 0,
      "outputs": []
    },
    {
      "cell_type": "code",
      "metadata": {
        "colab_type": "code",
        "id": "A1gPJSs3R3tp",
        "colab": {}
      },
      "source": [
        "%env n_shot=5\n",
        "print(\"\\n n_shot: 5 \\n\")\n",
        "print(\"Baseline\")\n",
        "!cd CloserLookFewShot/ && python3 ./train.py --dataset CIFARFS --model Conv4 --method baseline --start_epoch 0 --stop_epoch $stop_epoch --train_n_way 3 --test_n_way 3 --n_shot $n_shot\n",
        "!cd CloserLookFewShot/ && python3 ./save_features.py --dataset CIFARFS --model Conv4 --method baseline --save_iter $save_iter --train_n_way 3 --test_n_way 3 --n_shot $n_shot\n",
        "!cd CloserLookFewShot/ && python3 ./test.py --dataset CIFARFS --model Conv4 --method baseline --save_iter $save_iter --test_n_way 3 --train_n_way 3 --n_shot $n_shot\n",
        "!cd CloserLookFewShot/ && python3 ./test.py --dataset CIFARFS --model Conv4 --method baseline --save_iter $save_iter --test_n_way 3 --train_n_way 3 --n_shot $n_shot --adaptation\n",
        "print(\"Baseline++\")\n",
        "!cd CloserLookFewShot/ && python3 ./train.py --dataset CIFARFS --model Conv4 --method baseline++ --start_epoch 0 --stop_epoch $stop_epoch --train_n_way 3 --test_n_way 3 --n_shot $n_shot\n",
        "!cd CloserLookFewShot/ && python3 ./save_features.py --dataset CIFARFS --model Conv4 --method baseline++ --save_iter $save_iter --train_n_way 3 --test_n_way 3 --n_shot $n_shot\n",
        "!cd CloserLookFewShot/ && python3 ./test.py --dataset CIFARFS --model Conv4 --method baseline++ --save_iter $save_iter --test_n_way 3 --train_n_way 3 --n_shot $n_shot\n",
        "!cd CloserLookFewShot/ && python3 ./test.py --dataset CIFARFS --model Conv4 --method baseline++ --save_iter $save_iter --test_n_way 3 --train_n_way 3 --n_shot $n_shot --adaptation\n",
        "print(\"relationnet\")\n",
        "!cd CloserLookFewShot/ && python3 ./train.py --dataset CIFARFS --model Conv4 --method relationnet --start_epoch 0 --stop_epoch $stop_epoch --train_n_way 3 --test_n_way 3 --n_shot $n_shot\n",
        "!cd CloserLookFewShot/ && python3 ./save_features.py --dataset CIFARFS --model Conv4 --method relationnet --save_iter $save_iter --train_n_way 3 --test_n_way 3 --n_shot $n_shot\n",
        "!cd CloserLookFewShot/ && python3 ./test.py --dataset CIFARFS --model Conv4 --method relationnet --save_iter $save_iter --test_n_way 3 --train_n_way 3 --n_shot $n_shot\n",
        "!cd CloserLookFewShot/ && python3 ./test.py --dataset CIFARFS --model Conv4 --method relationnet --save_iter $save_iter --test_n_way 3 --train_n_way 3 --n_shot $n_shot --adaptation\n",
        "print(\"Protonet\")\n",
        "!cd CloserLookFewShot/ && python3 ./train.py --dataset CIFARFS --model Conv4 --method protonet --start_epoch 0 --stop_epoch $stop_epoch --train_n_way 3 --test_n_way 3 --n_shot $n_shot\n",
        "!cd CloserLookFewShot/ && python3 ./save_features.py --dataset CIFARFS --model Conv4 --method protonet --save_iter $save_iter --train_n_way 3 --test_n_way 3 --n_shot $n_shot\n",
        "!cd CloserLookFewShot/ && python3 ./test.py --dataset CIFARFS --model Conv4 --method protonet --save_iter $save_iter --test_n_way 3 --train_n_way 3 --n_shot $n_shot\n",
        "!cd CloserLookFewShot/ && python3 ./test.py --dataset CIFARFS --model Conv4 --method protonet --save_iter $save_iter --test_n_way 3 --train_n_way 3 --n_shot $n_shot --adaptation"
      ],
      "execution_count": 0,
      "outputs": []
    },
    {
      "cell_type": "code",
      "metadata": {
        "id": "FWtkhve2W81u",
        "colab_type": "code",
        "colab": {}
      },
      "source": [
        "print(\"Protonet+\")\n",
        "!cd CloserLookFewShot/ && python3 ./train.py --dataset CIFARFS --model Conv4 --method protonetn --start_epoch 0 --stop_epoch $stop_epoch --train_n_way 3 --test_n_way 3 --n_shot $n_shot\n",
        "!cd CloserLookFewShot/ && python3 ./test.py --dataset CIFARFS --model Conv4 --method protonetn --save_iter $save_iter --test_n_way 3 --train_n_way 3 --n_shot $n_shot  "
      ],
      "execution_count": 0,
      "outputs": []
    }
  ]
}