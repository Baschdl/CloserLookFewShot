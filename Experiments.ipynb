{
 "cells": [
  {
   "cell_type": "code",
   "execution_count": null,
   "metadata": {
    "colab": {
     "base_uri": "https://localhost:8080/",
     "height": 34
    },
    "colab_type": "code",
    "id": "y4blME8EnuUh",
    "outputId": "eaed285b-831f-4e14-d346-dc10c3fe9094"
   },
   "outputs": [],
   "source": [
    "%env additional_iter=5"
   ]
  },
  {
   "cell_type": "markdown",
   "metadata": {
    "colab_type": "text",
    "id": "c47S_o0-S1c5"
   },
   "source": [
    "# No domain shift"
   ]
  },
  {
   "cell_type": "code",
   "execution_count": null,
   "metadata": {
    "colab": {
     "base_uri": "https://localhost:8080/",
     "height": 555
    },
    "colab_type": "code",
    "id": "AOi5lcrbpHvM",
    "outputId": "a45327f8-3bc5-4f6b-f182-488b67716f71"
   },
   "outputs": [],
   "source": [
    "# No domain shift baseline classes from superclasses flowers, fruit and vegetables and trees\n",
    "# Get current source code\n",
    "!rm -r CloserLookFewShot\n",
    "!git clone https://github.com/Baschdl/CloserLookFewShot.git\n",
    "!cd CloserLookFewShot/ && git checkout master # Change to branch you want to start training from.\n",
    "# Download CIFAR-FS dataset\n",
    "!cd CloserLookFewShot/filelists/CIFARFS && ./download_Cifar.sh\n",
    "# Create train, val, test split\n",
    "from CloserLookFewShot.filelists.CIFARFS.generate_cross_domain_split import generate_cross_domain_split\n",
    "base_classes = [\"poppy\", \"rose\", \"tulip\", \"apple\", \"sweet_pepper\", \"maple_tree\", \"oak_tree\"]\n",
    "val_classes = [\"sunflower\", \"orange\", \"palm_tree\"]\n",
    "novel_classes = [\"orchid\", \"pear\", \"pine_tree\"]\n",
    "# \"orchid\", \"sunflower\", \"maple_tree\",\n",
    "generate_cross_domain_split(base_classes, val_classes, novel_classes)\n",
    "%env save_iter=-1"
   ]
  },
  {
   "cell_type": "code",
   "execution_count": null,
   "metadata": {
    "colab": {
     "base_uri": "https://localhost:8080/",
     "height": 1000
    },
    "colab_type": "code",
    "id": "aZy6fEHhRdOq",
    "outputId": "e33227ca-6062-47fb-cb9f-0d73e5eca92e"
   },
   "outputs": [],
   "source": [
    "%env n_shot=1\n",
    "print(\"\\n n_shot: 1 \\n\")\n",
    "print(\"Baseline\")\n",
    "!cd CloserLookFewShot/ && python3 ./train.py --dataset CIFARFS --model Conv4 --method baseline --start_epoch 0 --stop_epoch 100 --train_n_way 3 --test_n_way 3 --n_shot $n_shot\n",
    "!cd CloserLookFewShot/ && python3 ./save_features.py --dataset CIFARFS --model Conv4 --method baseline --save_iter $save_iter --train_n_way 3 --test_n_way 3 --n_shot $n_shot\n",
    "!cd CloserLookFewShot/ && python3 ./test.py --dataset CIFARFS --model Conv4 --method baseline --save_iter $save_iter --test_n_way 3 --train_n_way 3 --n_shot $n_shot\n",
    "!cd CloserLookFewShot/ && python3 ./test.py --dataset CIFARFS --model Conv4 --method baseline --save_iter $save_iter --test_n_way 3 --train_n_way 3 --n_shot $n_shot --adaptation\n",
    "print(\"Baseline++\")\n",
    "!cd CloserLookFewShot/ && python3 ./train.py --dataset CIFARFS --model Conv4 --method baseline++ --start_epoch 0 --stop_epoch 100 --train_n_way 3 --test_n_way 3 --n_shot $n_shot\n",
    "!cd CloserLookFewShot/ && python3 ./save_features.py --dataset CIFARFS --model Conv4 --method baseline++ --save_iter $save_iter --train_n_way 3 --test_n_way 3 --n_shot $n_shot\n",
    "!cd CloserLookFewShot/ && python3 ./test.py --dataset CIFARFS --model Conv4 --method baseline++ --save_iter $save_iter --test_n_way 3 --train_n_way 3 --n_shot $n_shot\n",
    "!cd CloserLookFewShot/ && python3 ./test.py --dataset CIFARFS --model Conv4 --method baseline++ --save_iter $save_iter --test_n_way 3 --train_n_way 3 --n_shot $n_shot --adaptation\n",
    "print(\"relationnet\")\n",
    "!cd CloserLookFewShot/ && python3 ./train.py --dataset CIFARFS --model Conv4 --method relationnet --start_epoch 0 --stop_epoch 100 --train_n_way 3 --test_n_way 3 --n_shot $n_shot\n",
    "!cd CloserLookFewShot/ && python3 ./save_features.py --dataset CIFARFS --model Conv4 --method relationnet --save_iter $save_iter --train_n_way 3 --test_n_way 3 --n_shot $n_shot\n",
    "!cd CloserLookFewShot/ && python3 ./test.py --dataset CIFARFS --model Conv4 --method relationnet --save_iter $save_iter --test_n_way 3 --train_n_way 3 --n_shot $n_shot\n",
    "print(\"Protonet\")\n",
    "!cd CloserLookFewShot/ && python3 ./train.py --dataset CIFARFS --model Conv4 --method protonet --start_epoch 0 --stop_epoch 100 --train_n_way 3 --test_n_way 3 --n_shot $n_shot\n",
    "!cd CloserLookFewShot/ && python3 ./save_features.py --dataset CIFARFS --model Conv4 --method protonet --save_iter $save_iter --train_n_way 3 --test_n_way 3 --n_shot $n_shot\n",
    "!cd CloserLookFewShot/ && python3 ./test.py --dataset CIFARFS --model Conv4 --method protonet --save_iter $save_iter --test_n_way 3 --train_n_way 3 --n_shot $n_shot\n",
    "!cd CloserLookFewShot/ && python3 ./test.py --dataset CIFARFS --model Conv4 --method protonet --save_iter $save_iter --test_n_way 3 --train_n_way 3 --n_shot $n_shot --adaptation"
   ]
  },
  {
   "cell_type": "code",
   "execution_count": null,
   "metadata": {
    "colab": {
     "base_uri": "https://localhost:8080/",
     "height": 1000
    },
    "colab_type": "code",
    "id": "bLkJLSu_RiPD",
    "outputId": "462a347f-7af8-4614-8631-1e4a9e337115"
   },
   "outputs": [],
   "source": [
    "%env n_shot=2\n",
    "print(\"\\n n_shot: 2 \\n\")\n",
    "print(\"Baseline\")\n",
    "!cd CloserLookFewShot/ && python3 ./train.py --dataset CIFARFS --model Conv4 --method baseline --start_epoch 0 --stop_epoch 100 --train_n_way 3 --test_n_way 3 --n_shot $n_shot\n",
    "!cd CloserLookFewShot/ && python3 ./save_features.py --dataset CIFARFS --model Conv4 --method baseline --save_iter $save_iter --train_n_way 3 --test_n_way 3 --n_shot $n_shot\n",
    "!cd CloserLookFewShot/ && python3 ./test.py --dataset CIFARFS --model Conv4 --method baseline --save_iter $save_iter --test_n_way 3 --train_n_way 3 --n_shot $n_shot\n",
    "!cd CloserLookFewShot/ && python3 ./test.py --dataset CIFARFS --model Conv4 --method baseline --save_iter $save_iter --test_n_way 3 --train_n_way 3 --n_shot $n_shot --adaptation\n",
    "print(\"Baseline++\")\n",
    "!cd CloserLookFewShot/ && python3 ./train.py --dataset CIFARFS --model Conv4 --method baseline++ --start_epoch 0 --stop_epoch 100 --train_n_way 3 --test_n_way 3 --n_shot $n_shot\n",
    "!cd CloserLookFewShot/ && python3 ./save_features.py --dataset CIFARFS --model Conv4 --method baseline++ --save_iter $save_iter --train_n_way 3 --test_n_way 3 --n_shot $n_shot\n",
    "!cd CloserLookFewShot/ && python3 ./test.py --dataset CIFARFS --model Conv4 --method baseline++ --save_iter $save_iter --test_n_way 3 --train_n_way 3 --n_shot $n_shot\n",
    "!cd CloserLookFewShot/ && python3 ./test.py --dataset CIFARFS --model Conv4 --method baseline++ --save_iter $save_iter --test_n_way 3 --train_n_way 3 --n_shot $n_shot --adaptation\n",
    "print(\"relationnet\")\n",
    "!cd CloserLookFewShot/ && python3 ./train.py --dataset CIFARFS --model Conv4 --method relationnet --start_epoch 0 --stop_epoch 100 --train_n_way 3 --test_n_way 3 --n_shot $n_shot\n",
    "!cd CloserLookFewShot/ && python3 ./save_features.py --dataset CIFARFS --model Conv4 --method relationnet --save_iter $save_iter --train_n_way 3 --test_n_way 3 --n_shot $n_shot\n",
    "!cd CloserLookFewShot/ && python3 ./test.py --dataset CIFARFS --model Conv4 --method relationnet --save_iter $save_iter --test_n_way 3 --train_n_way 3 --n_shot $n_shot\n",
    "print(\"Protonet\")\n",
    "!cd CloserLookFewShot/ && python3 ./train.py --dataset CIFARFS --model Conv4 --method protonet --start_epoch 0 --stop_epoch 100 --train_n_way 3 --test_n_way 3 --n_shot $n_shot\n",
    "!cd CloserLookFewShot/ && python3 ./save_features.py --dataset CIFARFS --model Conv4 --method protonet --save_iter $save_iter --train_n_way 3 --test_n_way 3 --n_shot $n_shot\n",
    "!cd CloserLookFewShot/ && python3 ./test.py --dataset CIFARFS --model Conv4 --method protonet --save_iter $save_iter --test_n_way 3 --train_n_way 3 --n_shot $n_shot\n",
    "!cd CloserLookFewShot/ && python3 ./test.py --dataset CIFARFS --model Conv4 --method protonet --save_iter $save_iter --test_n_way 3 --train_n_way 3 --n_shot $n_shot --adaptation"
   ]
  },
  {
   "cell_type": "code",
   "execution_count": null,
   "metadata": {
    "colab": {
     "base_uri": "https://localhost:8080/",
     "height": 1000
    },
    "colab_type": "code",
    "id": "zrvE5q_mPt-K",
    "outputId": "4af0a49e-25de-433e-a930-6a5d270a9442"
   },
   "outputs": [],
   "source": [
    "%env n_shot=2\n",
    "print(\"Protonet+\")\n",
    "!cd CloserLookFewShot/ && python3 ./train.py --dataset CIFARFS --model Conv4 --method protonetn --start_epoch 0 --stop_epoch 100 --train_n_way 3 --test_n_way 3 --n_shot $n_shot\n",
    "!cd CloserLookFewShot/ && python3 ./test.py --dataset CIFARFS --model Conv4 --method protonetn --save_iter $save_iter --test_n_way 3 --train_n_way 3 --n_shot $n_shot  --additional_iter $additional_iter"
   ]
  },
  {
   "cell_type": "code",
   "execution_count": null,
   "metadata": {
    "colab": {
     "base_uri": "https://localhost:8080/",
     "height": 1000
    },
    "colab_type": "code",
    "id": "uY7T3b6pRksE",
    "outputId": "96fac07a-bad4-49d1-e716-3cf0232811be"
   },
   "outputs": [],
   "source": [
    "%env n_shot=5\n",
    "print(\"\\n n_shot: 5 \\n\")\n",
    "print(\"Baseline\")\n",
    "!cd CloserLookFewShot/ && python3 ./train.py --dataset CIFARFS --model Conv4 --method baseline --start_epoch 0 --stop_epoch 100 --train_n_way 3 --test_n_way 3 --n_shot $n_shot\n",
    "!cd CloserLookFewShot/ && python3 ./save_features.py --dataset CIFARFS --model Conv4 --method baseline --save_iter $save_iter --train_n_way 3 --test_n_way 3 --n_shot $n_shot\n",
    "!cd CloserLookFewShot/ && python3 ./test.py --dataset CIFARFS --model Conv4 --method baseline --save_iter $save_iter --test_n_way 3 --train_n_way 3 --n_shot $n_shot\n",
    "!cd CloserLookFewShot/ && python3 ./test.py --dataset CIFARFS --model Conv4 --method baseline --save_iter $save_iter --test_n_way 3 --train_n_way 3 --n_shot $n_shot --adaptation\n",
    "print(\"Baseline++\")\n",
    "!cd CloserLookFewShot/ && python3 ./train.py --dataset CIFARFS --model Conv4 --method baseline++ --start_epoch 0 --stop_epoch 100 --train_n_way 3 --test_n_way 3 --n_shot $n_shot\n",
    "!cd CloserLookFewShot/ && python3 ./save_features.py --dataset CIFARFS --model Conv4 --method baseline++ --save_iter $save_iter --train_n_way 3 --test_n_way 3 --n_shot $n_shot\n",
    "!cd CloserLookFewShot/ && python3 ./test.py --dataset CIFARFS --model Conv4 --method baseline++ --save_iter $save_iter --test_n_way 3 --train_n_way 3 --n_shot $n_shot\n",
    "!cd CloserLookFewShot/ && python3 ./test.py --dataset CIFARFS --model Conv4 --method baseline++ --save_iter $save_iter --test_n_way 3 --train_n_way 3 --n_shot $n_shot --adaptation\n",
    "print(\"relationnet\")\n",
    "!cd CloserLookFewShot/ && python3 ./train.py --dataset CIFARFS --model Conv4 --method relationnet --start_epoch 0 --stop_epoch 100 --train_n_way 3 --test_n_way 3 --n_shot $n_shot\n",
    "!cd CloserLookFewShot/ && python3 ./save_features.py --dataset CIFARFS --model Conv4 --method relationnet --save_iter $save_iter --train_n_way 3 --test_n_way 3 --n_shot $n_shot\n",
    "!cd CloserLookFewShot/ && python3 ./test.py --dataset CIFARFS --model Conv4 --method relationnet --save_iter $save_iter --test_n_way 3 --train_n_way 3 --n_shot $n_shot\n",
    "!cd CloserLookFewShot/ && python3 ./test.py --dataset CIFARFS --model Conv4 --method relationnet --save_iter $save_iter --test_n_way 3 --train_n_way 3 --n_shot $n_shot --adaptation\n",
    "print(\"Protonet\")\n",
    "!cd CloserLookFewShot/ && python3 ./train.py --dataset CIFARFS --model Conv4 --method protonet --start_epoch 0 --stop_epoch 100 --train_n_way 3 --test_n_way 3 --n_shot $n_shot\n",
    "!cd CloserLookFewShot/ && python3 ./save_features.py --dataset CIFARFS --model Conv4 --method protonet --save_iter $save_iter --train_n_way 3 --test_n_way 3 --n_shot $n_shot\n",
    "!cd CloserLookFewShot/ && python3 ./test.py --dataset CIFARFS --model Conv4 --method protonet --save_iter $save_iter --test_n_way 3 --train_n_way 3 --n_shot $n_shot\n",
    "!cd CloserLookFewShot/ && python3 ./test.py --dataset CIFARFS --model Conv4 --method protonet --save_iter $save_iter --test_n_way 3 --train_n_way 3 --n_shot $n_shot --adaptation"
   ]
  },
  {
   "cell_type": "code",
   "execution_count": null,
   "metadata": {
    "colab": {
     "base_uri": "https://localhost:8080/",
     "height": 1000
    },
    "colab_type": "code",
    "id": "Fzfrvz8vP3hj",
    "outputId": "aff58c91-a2b6-4900-ec2b-69240e29992b"
   },
   "outputs": [],
   "source": [
    "%env n_shot=5\n",
    "%env additional_iter=5\n",
    "print(\"Protonet+\")\n",
    "!cd CloserLookFewShot/ && python3 ./train.py --dataset CIFARFS --model Conv4 --method protonetn --start_epoch 0 --stop_epoch 100 --train_n_way 3 --test_n_way 3 --n_shot $n_shot\n",
    "!cd CloserLookFewShot/ && python3 ./test.py --dataset CIFARFS --model Conv4 --method protonetn --save_iter $save_iter --test_n_way 3 --train_n_way 3 --n_shot $n_shot  --additional_iter $additional_iter"
   ]
  },
  {
   "cell_type": "markdown",
   "metadata": {
    "colab_type": "text",
    "id": "HliqR-wWNwHZ"
   },
   "source": [
    "# flowers and trees superclasses -> fruits & vegetables superclass"
   ]
  },
  {
   "cell_type": "code",
   "execution_count": null,
   "metadata": {
    "colab": {
     "base_uri": "https://localhost:8080/",
     "height": 538
    },
    "colab_type": "code",
    "id": "dArB_S2OmGXj",
    "outputId": "f495879e-f416-4410-f857-3ced2f2f639b"
   },
   "outputs": [],
   "source": [
    "# Get current source code\n",
    "# flowers and trees superclasses -> fruits & vegetables superclass\n",
    "!rm -r CloserLookFewShot\n",
    "!git clone https://github.com/Baschdl/CloserLookFewShot.git\n",
    "!cd CloserLookFewShot/ && git checkout master # Change to branch you want to start training from.\n",
    "# Download CIFAR-FS dataset\n",
    "!cd CloserLookFewShot/filelists/CIFARFS && ./download_Cifar.sh\n",
    "# Create train, val, test split\n",
    "from CloserLookFewShot.filelists.CIFARFS.generate_cross_domain_split import generate_cross_domain_split\n",
    "base_classes = [\"poppy\", \"rose\", \"tulip\", \"palm_tree\", \"pine_tree\", \"oak_tree\", \"willow_tree\"]\n",
    "val_classes = [\"orchid\", \"sunflower\", \"maple_tree\"]\n",
    "novel_classes = [\"apple\", \"pear\", \"mushroom\"]\n",
    "# \"orchid\", \"sunflower\", \"maple_tree\",\n",
    "generate_cross_domain_split(base_classes, val_classes, novel_classes)\n",
    "%env save_iter=-1"
   ]
  },
  {
   "cell_type": "code",
   "execution_count": null,
   "metadata": {
    "colab": {
     "base_uri": "https://localhost:8080/",
     "height": 1000
    },
    "colab_type": "code",
    "id": "c89IAWzGRxBw",
    "outputId": "381dcd0f-6802-4903-bdc3-05469f7502f5"
   },
   "outputs": [],
   "source": [
    "%env n_shot=1\n",
    "print(\"\\n n_shot: 1 \\n\")\n",
    "print(\"Baseline\")\n",
    "!cd CloserLookFewShot/ && python3 ./train.py --dataset CIFARFS --model Conv4 --method baseline --start_epoch 0 --stop_epoch 100 --train_n_way 3 --test_n_way 3 --n_shot $n_shot\n",
    "!cd CloserLookFewShot/ && python3 ./save_features.py --dataset CIFARFS --model Conv4 --method baseline --save_iter $save_iter --train_n_way 3 --test_n_way 3 --n_shot $n_shot\n",
    "!cd CloserLookFewShot/ && python3 ./test.py --dataset CIFARFS --model Conv4 --method baseline --save_iter $save_iter --test_n_way 3 --train_n_way 3 --n_shot $n_shot\n",
    "!cd CloserLookFewShot/ && python3 ./test.py --dataset CIFARFS --model Conv4 --method baseline --save_iter $save_iter --test_n_way 3 --train_n_way 3 --n_shot $n_shot --adaptation\n",
    "print(\"Baseline++\")\n",
    "!cd CloserLookFewShot/ && python3 ./train.py --dataset CIFARFS --model Conv4 --method baseline++ --start_epoch 0 --stop_epoch 100 --train_n_way 3 --test_n_way 3 --n_shot $n_shot\n",
    "!cd CloserLookFewShot/ && python3 ./save_features.py --dataset CIFARFS --model Conv4 --method baseline++ --save_iter $save_iter --train_n_way 3 --test_n_way 3 --n_shot $n_shot\n",
    "!cd CloserLookFewShot/ && python3 ./test.py --dataset CIFARFS --model Conv4 --method baseline++ --save_iter $save_iter --test_n_way 3 --train_n_way 3 --n_shot $n_shot\n",
    "!cd CloserLookFewShot/ && python3 ./test.py --dataset CIFARFS --model Conv4 --method baseline++ --save_iter $save_iter --test_n_way 3 --train_n_way 3 --n_shot $n_shot --adaptation\n",
    "print(\"relationnet\")\n",
    "!cd CloserLookFewShot/ && python3 ./train.py --dataset CIFARFS --model Conv4 --method relationnet --start_epoch 0 --stop_epoch 100 --train_n_way 3 --test_n_way 3 --n_shot $n_shot\n",
    "!cd CloserLookFewShot/ && python3 ./save_features.py --dataset CIFARFS --model Conv4 --method relationnet --save_iter $save_iter --train_n_way 3 --test_n_way 3 --n_shot $n_shot\n",
    "!cd CloserLookFewShot/ && python3 ./test.py --dataset CIFARFS --model Conv4 --method relationnet --save_iter $save_iter --test_n_way 3 --train_n_way 3 --n_shot $n_shot\n",
    "print(\"Protonet\")\n",
    "!cd CloserLookFewShot/ && python3 ./train.py --dataset CIFARFS --model Conv4 --method protonet --start_epoch 0 --stop_epoch 100 --train_n_way 3 --test_n_way 3 --n_shot $n_shot\n",
    "!cd CloserLookFewShot/ && python3 ./save_features.py --dataset CIFARFS --model Conv4 --method protonet --save_iter $save_iter --train_n_way 3 --test_n_way 3 --n_shot $n_shot\n",
    "!cd CloserLookFewShot/ && python3 ./test.py --dataset CIFARFS --model Conv4 --method protonet --save_iter $save_iter --test_n_way 3 --train_n_way 3 --n_shot $n_shot\n",
    "!cd CloserLookFewShot/ && python3 ./test.py --dataset CIFARFS --model Conv4 --method protonet --save_iter $save_iter --test_n_way 3 --train_n_way 3 --n_shot $n_shot --adaptation"
   ]
  },
  {
   "cell_type": "code",
   "execution_count": null,
   "metadata": {
    "colab": {
     "base_uri": "https://localhost:8080/",
     "height": 1000
    },
    "colab_type": "code",
    "id": "idOMIsPjRxCK",
    "outputId": "3ed522f2-2a6c-458f-b5ef-37ace5dbfa5f"
   },
   "outputs": [],
   "source": [
    "%env n_shot=2\n",
    "print(\"\\n n_shot: 2 \\n\")\n",
    "print(\"Baseline\")\n",
    "!cd CloserLookFewShot/ && python3 ./train.py --dataset CIFARFS --model Conv4 --method baseline --start_epoch 0 --stop_epoch 100 --train_n_way 3 --test_n_way 3 --n_shot $n_shot\n",
    "!cd CloserLookFewShot/ && python3 ./save_features.py --dataset CIFARFS --model Conv4 --method baseline --save_iter $save_iter --train_n_way 3 --test_n_way 3 --n_shot $n_shot\n",
    "!cd CloserLookFewShot/ && python3 ./test.py --dataset CIFARFS --model Conv4 --method baseline --save_iter $save_iter --test_n_way 3 --train_n_way 3 --n_shot $n_shot\n",
    "!cd CloserLookFewShot/ && python3 ./test.py --dataset CIFARFS --model Conv4 --method baseline --save_iter $save_iter --test_n_way 3 --train_n_way 3 --n_shot $n_shot --adaptation\n",
    "print(\"Baseline++\")\n",
    "!cd CloserLookFewShot/ && python3 ./train.py --dataset CIFARFS --model Conv4 --method baseline++ --start_epoch 0 --stop_epoch 100 --train_n_way 3 --test_n_way 3 --n_shot $n_shot\n",
    "!cd CloserLookFewShot/ && python3 ./save_features.py --dataset CIFARFS --model Conv4 --method baseline++ --save_iter $save_iter --train_n_way 3 --test_n_way 3 --n_shot $n_shot\n",
    "!cd CloserLookFewShot/ && python3 ./test.py --dataset CIFARFS --model Conv4 --method baseline++ --save_iter $save_iter --test_n_way 3 --train_n_way 3 --n_shot $n_shot\n",
    "!cd CloserLookFewShot/ && python3 ./test.py --dataset CIFARFS --model Conv4 --method baseline++ --save_iter $save_iter --test_n_way 3 --train_n_way 3 --n_shot $n_shot --adaptation\n",
    "print(\"relationnet\")\n",
    "!cd CloserLookFewShot/ && python3 ./train.py --dataset CIFARFS --model Conv4 --method relationnet --start_epoch 0 --stop_epoch 100 --train_n_way 3 --test_n_way 3 --n_shot $n_shot\n",
    "!cd CloserLookFewShot/ && python3 ./save_features.py --dataset CIFARFS --model Conv4 --method relationnet --save_iter $save_iter --train_n_way 3 --test_n_way 3 --n_shot $n_shot\n",
    "!cd CloserLookFewShot/ && python3 ./test.py --dataset CIFARFS --model Conv4 --method relationnet --save_iter $save_iter --test_n_way 3 --train_n_way 3 --n_shot $n_shot\n",
    "print(\"Protonet\")\n",
    "!cd CloserLookFewShot/ && python3 ./train.py --dataset CIFARFS --model Conv4 --method protonet --start_epoch 0 --stop_epoch 100 --train_n_way 3 --test_n_way 3 --n_shot $n_shot\n",
    "!cd CloserLookFewShot/ && python3 ./save_features.py --dataset CIFARFS --model Conv4 --method protonet --save_iter $save_iter --train_n_way 3 --test_n_way 3 --n_shot $n_shot\n",
    "!cd CloserLookFewShot/ && python3 ./test.py --dataset CIFARFS --model Conv4 --method protonet --save_iter $save_iter --test_n_way 3 --train_n_way 3 --n_shot $n_shot\n",
    "!cd CloserLookFewShot/ && python3 ./test.py --dataset CIFARFS --model Conv4 --method protonet --save_iter $save_iter --test_n_way 3 --train_n_way 3 --n_shot $n_shot --adaptation"
   ]
  },
  {
   "cell_type": "code",
   "execution_count": null,
   "metadata": {
    "colab": {
     "base_uri": "https://localhost:8080/",
     "height": 1000
    },
    "colab_type": "code",
    "id": "gsy-nseVQBWz",
    "outputId": "185d3af0-35db-46e5-f5f5-331943e71401"
   },
   "outputs": [],
   "source": [
    "%env n_shot=2\n",
    "print(\"Protonet+\")\n",
    "!cd CloserLookFewShot/ && python3 ./train.py --dataset CIFARFS --model Conv4 --method protonetn --start_epoch 0 --stop_epoch 100 --train_n_way 3 --test_n_way 3 --n_shot $n_shot\n",
    "!cd CloserLookFewShot/ && python3 ./test.py --dataset CIFARFS --model Conv4 --method protonetn --save_iter $save_iter --test_n_way 3 --train_n_way 3 --n_shot $n_shot  --additional_iter $additional_iter"
   ]
  },
  {
   "cell_type": "code",
   "execution_count": null,
   "metadata": {
    "colab": {
     "base_uri": "https://localhost:8080/",
     "height": 1000
    },
    "colab_type": "code",
    "id": "9gC6YcNjRxCY",
    "outputId": "c27cb459-a390-4949-a65a-34cc7bf756e7"
   },
   "outputs": [],
   "source": [
    "%env n_shot=5\n",
    "print(\"\\n n_shot: 5 \\n\")\n",
    "print(\"Baseline\")\n",
    "!cd CloserLookFewShot/ && python3 ./train.py --dataset CIFARFS --model Conv4 --method baseline --start_epoch 0 --stop_epoch 100 --train_n_way 3 --test_n_way 3 --n_shot $n_shot\n",
    "!cd CloserLookFewShot/ && python3 ./save_features.py --dataset CIFARFS --model Conv4 --method baseline --save_iter $save_iter --train_n_way 3 --test_n_way 3 --n_shot $n_shot\n",
    "!cd CloserLookFewShot/ && python3 ./test.py --dataset CIFARFS --model Conv4 --method baseline --save_iter $save_iter --test_n_way 3 --train_n_way 3 --n_shot $n_shot\n",
    "!cd CloserLookFewShot/ && python3 ./test.py --dataset CIFARFS --model Conv4 --method baseline --save_iter $save_iter --test_n_way 3 --train_n_way 3 --n_shot $n_shot --adaptation\n",
    "print(\"Baseline++\")\n",
    "!cd CloserLookFewShot/ && python3 ./train.py --dataset CIFARFS --model Conv4 --method baseline++ --start_epoch 0 --stop_epoch 100 --train_n_way 3 --test_n_way 3 --n_shot $n_shot\n",
    "!cd CloserLookFewShot/ && python3 ./save_features.py --dataset CIFARFS --model Conv4 --method baseline++ --save_iter $save_iter --train_n_way 3 --test_n_way 3 --n_shot $n_shot\n",
    "!cd CloserLookFewShot/ && python3 ./test.py --dataset CIFARFS --model Conv4 --method baseline++ --save_iter $save_iter --test_n_way 3 --train_n_way 3 --n_shot $n_shot\n",
    "!cd CloserLookFewShot/ && python3 ./test.py --dataset CIFARFS --model Conv4 --method baseline++ --save_iter $save_iter --test_n_way 3 --train_n_way 3 --n_shot $n_shot --adaptation\n",
    "print(\"relationnet\")\n",
    "!cd CloserLookFewShot/ && python3 ./train.py --dataset CIFARFS --model Conv4 --method relationnet --start_epoch 0 --stop_epoch 100 --train_n_way 3 --test_n_way 3 --n_shot $n_shot\n",
    "!cd CloserLookFewShot/ && python3 ./save_features.py --dataset CIFARFS --model Conv4 --method relationnet --save_iter $save_iter --train_n_way 3 --test_n_way 3 --n_shot $n_shot\n",
    "!cd CloserLookFewShot/ && python3 ./test.py --dataset CIFARFS --model Conv4 --method relationnet --save_iter $save_iter --test_n_way 3 --train_n_way 3 --n_shot $n_shot\n",
    "!cd CloserLookFewShot/ && python3 ./test.py --dataset CIFARFS --model Conv4 --method relationnet --save_iter $save_iter --test_n_way 3 --train_n_way 3 --n_shot $n_shot --adaptation\n",
    "print(\"Protonet\")\n",
    "!cd CloserLookFewShot/ && python3 ./train.py --dataset CIFARFS --model Conv4 --method protonet --start_epoch 0 --stop_epoch 100 --train_n_way 3 --test_n_way 3 --n_shot $n_shot\n",
    "!cd CloserLookFewShot/ && python3 ./save_features.py --dataset CIFARFS --model Conv4 --method protonet --save_iter $save_iter --train_n_way 3 --test_n_way 3 --n_shot $n_shot\n",
    "!cd CloserLookFewShot/ && python3 ./test.py --dataset CIFARFS --model Conv4 --method protonet --save_iter $save_iter --test_n_way 3 --train_n_way 3 --n_shot $n_shot\n",
    "!cd CloserLookFewShot/ && python3 ./test.py --dataset CIFARFS --model Conv4 --method protonet --save_iter $save_iter --test_n_way 3 --train_n_way 3 --n_shot $n_shot --adaptation"
   ]
  },
  {
   "cell_type": "code",
   "execution_count": null,
   "metadata": {},
   "outputs": [],
   "source": [
    "print(\"Protonet+\")\n",
    "!cd CloserLookFewShot/ && python3 ./train.py --dataset CIFARFS --model Conv4 --method protonetn --start_epoch 0 --stop_epoch 100 --train_n_way 3 --test_n_way 3 --n_shot $n_shot\n",
    "!cd CloserLookFewShot/ && python3 ./test.py --dataset CIFARFS --model Conv4 --method protonetn --save_iter $save_iter --test_n_way 3 --train_n_way 3 --n_shot $n_shot  --additional_iter $additional_iter"
   ]
  },
  {
   "cell_type": "markdown",
   "metadata": {
    "colab_type": "text",
    "id": "ffj_mhjnSm4p"
   },
   "source": [
    "# Land animals -> Water animals"
   ]
  },
  {
   "cell_type": "code",
   "execution_count": null,
   "metadata": {
    "colab": {},
    "colab_type": "code",
    "id": "c7Pj6Z1pL1sT"
   },
   "outputs": [],
   "source": [
    "# Get current source code\n",
    "# Land animals -> Water animals\n",
    "!rm -r CloserLookFewShot\n",
    "!git clone https://github.com/Baschdl/CloserLookFewShot.git\n",
    "!cd CloserLookFewShot/ && git checkout master # Change to branch you want to start training from.\n",
    "# Download CIFAR-FS dataset\n",
    "!cd CloserLookFewShot/filelists/CIFARFS && ./download_Cifar.sh\n",
    "# Create train, val, test split\n",
    "from CloserLookFewShot.filelists.CIFARFS.generate_cross_domain_split import generate_cross_domain_split\n",
    "base_classes = [\"bear\", \"leopard\", \"lion\", \"tiger\",  \"cattle\", \"chimpanzee\", \"elephant\"]\n",
    "val_classes = [\"wolf\", \"kangaroo\", \"camel\",]\n",
    "novel_classes = [\"trout\", \"aquarium_fish\", \"flatfish\"]\n",
    "generate_cross_domain_split(base_classes, val_classes, novel_classes)\n",
    "%env save_iter=-1"
   ]
  },
  {
   "cell_type": "code",
   "execution_count": null,
   "metadata": {
    "colab": {},
    "colab_type": "code",
    "id": "kiYO91zkRzYc"
   },
   "outputs": [],
   "source": [
    "%env n_shot=1\n",
    "print(\"\\n n_shot: 1 \\n\")\n",
    "print(\"Baseline\")\n",
    "!cd CloserLookFewShot/ && python3 ./train.py --dataset CIFARFS --model Conv4 --method baseline --start_epoch 0 --stop_epoch 100 --train_n_way 3 --test_n_way 3 --n_shot $n_shot\n",
    "!cd CloserLookFewShot/ && python3 ./save_features.py --dataset CIFARFS --model Conv4 --method baseline --save_iter $save_iter --train_n_way 3 --test_n_way 3 --n_shot $n_shot\n",
    "!cd CloserLookFewShot/ && python3 ./test.py --dataset CIFARFS --model Conv4 --method baseline --save_iter $save_iter --test_n_way 3 --train_n_way 3 --n_shot $n_shot\n",
    "!cd CloserLookFewShot/ && python3 ./test.py --dataset CIFARFS --model Conv4 --method baseline --save_iter $save_iter --test_n_way 3 --train_n_way 3 --n_shot $n_shot --adaptation\n",
    "print(\"Baseline++\")\n",
    "!cd CloserLookFewShot/ && python3 ./train.py --dataset CIFARFS --model Conv4 --method baseline++ --start_epoch 0 --stop_epoch 100 --train_n_way 3 --test_n_way 3 --n_shot $n_shot\n",
    "!cd CloserLookFewShot/ && python3 ./save_features.py --dataset CIFARFS --model Conv4 --method baseline++ --save_iter $save_iter --train_n_way 3 --test_n_way 3 --n_shot $n_shot\n",
    "!cd CloserLookFewShot/ && python3 ./test.py --dataset CIFARFS --model Conv4 --method baseline++ --save_iter $save_iter --test_n_way 3 --train_n_way 3 --n_shot $n_shot\n",
    "!cd CloserLookFewShot/ && python3 ./test.py --dataset CIFARFS --model Conv4 --method baseline++ --save_iter $save_iter --test_n_way 3 --train_n_way 3 --n_shot $n_shot --adaptation\n",
    "print(\"relationnet\")\n",
    "!cd CloserLookFewShot/ && python3 ./train.py --dataset CIFARFS --model Conv4 --method relationnet --start_epoch 0 --stop_epoch 100 --train_n_way 3 --test_n_way 3 --n_shot $n_shot\n",
    "!cd CloserLookFewShot/ && python3 ./save_features.py --dataset CIFARFS --model Conv4 --method relationnet --save_iter $save_iter --train_n_way 3 --test_n_way 3 --n_shot $n_shot\n",
    "!cd CloserLookFewShot/ && python3 ./test.py --dataset CIFARFS --model Conv4 --method relationnet --save_iter $save_iter --test_n_way 3 --train_n_way 3 --n_shot $n_shot\n",
    "print(\"Protonet\")\n",
    "!cd CloserLookFewShot/ && python3 ./train.py --dataset CIFARFS --model Conv4 --method protonet --start_epoch 0 --stop_epoch 100 --train_n_way 3 --test_n_way 3 --n_shot $n_shot\n",
    "!cd CloserLookFewShot/ && python3 ./save_features.py --dataset CIFARFS --model Conv4 --method protonet --save_iter $save_iter --train_n_way 3 --test_n_way 3 --n_shot $n_shot\n",
    "!cd CloserLookFewShot/ && python3 ./test.py --dataset CIFARFS --model Conv4 --method protonet --save_iter $save_iter --test_n_way 3 --train_n_way 3 --n_shot $n_shot\n",
    "!cd CloserLookFewShot/ && python3 ./test.py --dataset CIFARFS --model Conv4 --method protonet --save_iter $save_iter --test_n_way 3 --train_n_way 3 --n_shot $n_shot --adaptation"
   ]
  },
  {
   "cell_type": "code",
   "execution_count": null,
   "metadata": {
    "colab": {},
    "colab_type": "code",
    "id": "xy3IHDT_RzY3"
   },
   "outputs": [],
   "source": [
    "%env n_shot=2\n",
    "print(\"\\n n_shot: 2 \\n\")\n",
    "print(\"Baseline\")\n",
    "!cd CloserLookFewShot/ && python3 ./train.py --dataset CIFARFS --model Conv4 --method baseline --start_epoch 0 --stop_epoch 100 --train_n_way 3 --test_n_way 3 --n_shot $n_shot\n",
    "!cd CloserLookFewShot/ && python3 ./save_features.py --dataset CIFARFS --model Conv4 --method baseline --save_iter $save_iter --train_n_way 3 --test_n_way 3 --n_shot $n_shot\n",
    "!cd CloserLookFewShot/ && python3 ./test.py --dataset CIFARFS --model Conv4 --method baseline --save_iter $save_iter --test_n_way 3 --train_n_way 3 --n_shot $n_shot\n",
    "!cd CloserLookFewShot/ && python3 ./test.py --dataset CIFARFS --model Conv4 --method baseline --save_iter $save_iter --test_n_way 3 --train_n_way 3 --n_shot $n_shot --adaptation\n",
    "print(\"Baseline++\")\n",
    "!cd CloserLookFewShot/ && python3 ./train.py --dataset CIFARFS --model Conv4 --method baseline++ --start_epoch 0 --stop_epoch 100 --train_n_way 3 --test_n_way 3 --n_shot $n_shot\n",
    "!cd CloserLookFewShot/ && python3 ./save_features.py --dataset CIFARFS --model Conv4 --method baseline++ --save_iter $save_iter --train_n_way 3 --test_n_way 3 --n_shot $n_shot\n",
    "!cd CloserLookFewShot/ && python3 ./test.py --dataset CIFARFS --model Conv4 --method baseline++ --save_iter $save_iter --test_n_way 3 --train_n_way 3 --n_shot $n_shot\n",
    "!cd CloserLookFewShot/ && python3 ./test.py --dataset CIFARFS --model Conv4 --method baseline++ --save_iter $save_iter --test_n_way 3 --train_n_way 3 --n_shot $n_shot --adaptation\n",
    "print(\"relationnet\")\n",
    "!cd CloserLookFewShot/ && python3 ./train.py --dataset CIFARFS --model Conv4 --method relationnet --start_epoch 0 --stop_epoch 100 --train_n_way 3 --test_n_way 3 --n_shot $n_shot\n",
    "!cd CloserLookFewShot/ && python3 ./save_features.py --dataset CIFARFS --model Conv4 --method relationnet --save_iter $save_iter --train_n_way 3 --test_n_way 3 --n_shot $n_shot\n",
    "!cd CloserLookFewShot/ && python3 ./test.py --dataset CIFARFS --model Conv4 --method relationnet --save_iter $save_iter --test_n_way 3 --train_n_way 3 --n_shot $n_shot\n",
    "print(\"Protonet\")\n",
    "!cd CloserLookFewShot/ && python3 ./train.py --dataset CIFARFS --model Conv4 --method protonet --start_epoch 0 --stop_epoch 100 --train_n_way 3 --test_n_way 3 --n_shot $n_shot\n",
    "!cd CloserLookFewShot/ && python3 ./save_features.py --dataset CIFARFS --model Conv4 --method protonet --save_iter $save_iter --train_n_way 3 --test_n_way 3 --n_shot $n_shot\n",
    "!cd CloserLookFewShot/ && python3 ./test.py --dataset CIFARFS --model Conv4 --method protonet --save_iter $save_iter --test_n_way 3 --train_n_way 3 --n_shot $n_shot\n",
    "!cd CloserLookFewShot/ && python3 ./test.py --dataset CIFARFS --model Conv4 --method protonet --save_iter $save_iter --test_n_way 3 --train_n_way 3 --n_shot $n_shot --adaptation"
   ]
  },
  {
   "cell_type": "code",
   "execution_count": null,
   "metadata": {},
   "outputs": [],
   "source": [
    "print(\"Protonet+\")\n",
    "!cd CloserLookFewShot/ && python3 ./train.py --dataset CIFARFS --model Conv4 --method protonetn --start_epoch 0 --stop_epoch 100 --train_n_way 3 --test_n_way 3 --n_shot $n_shot\n",
    "!cd CloserLookFewShot/ && python3 ./test.py --dataset CIFARFS --model Conv4 --method protonetn --save_iter $save_iter --test_n_way 3 --train_n_way 3 --n_shot $n_shot  --additional_iter $additional_iter"
   ]
  },
  {
   "cell_type": "code",
   "execution_count": null,
   "metadata": {
    "colab": {},
    "colab_type": "code",
    "id": "sG-NpvY0RzZG"
   },
   "outputs": [],
   "source": [
    "%env n_shot=5\n",
    "print(\"\\n n_shot: 5 \\n\")\n",
    "print(\"Baseline\")\n",
    "!cd CloserLookFewShot/ && python3 ./train.py --dataset CIFARFS --model Conv4 --method baseline --start_epoch 0 --stop_epoch 100 --train_n_way 3 --test_n_way 3 --n_shot $n_shot\n",
    "!cd CloserLookFewShot/ && python3 ./save_features.py --dataset CIFARFS --model Conv4 --method baseline --save_iter $save_iter --train_n_way 3 --test_n_way 3 --n_shot $n_shot\n",
    "!cd CloserLookFewShot/ && python3 ./test.py --dataset CIFARFS --model Conv4 --method baseline --save_iter $save_iter --test_n_way 3 --train_n_way 3 --n_shot $n_shot\n",
    "!cd CloserLookFewShot/ && python3 ./test.py --dataset CIFARFS --model Conv4 --method baseline --save_iter $save_iter --test_n_way 3 --train_n_way 3 --n_shot $n_shot --adaptation\n",
    "print(\"Baseline++\")\n",
    "!cd CloserLookFewShot/ && python3 ./train.py --dataset CIFARFS --model Conv4 --method baseline++ --start_epoch 0 --stop_epoch 100 --train_n_way 3 --test_n_way 3 --n_shot $n_shot\n",
    "!cd CloserLookFewShot/ && python3 ./save_features.py --dataset CIFARFS --model Conv4 --method baseline++ --save_iter $save_iter --train_n_way 3 --test_n_way 3 --n_shot $n_shot\n",
    "!cd CloserLookFewShot/ && python3 ./test.py --dataset CIFARFS --model Conv4 --method baseline++ --save_iter $save_iter --test_n_way 3 --train_n_way 3 --n_shot $n_shot\n",
    "!cd CloserLookFewShot/ && python3 ./test.py --dataset CIFARFS --model Conv4 --method baseline++ --save_iter $save_iter --test_n_way 3 --train_n_way 3 --n_shot $n_shot --adaptation\n",
    "print(\"relationnet\")\n",
    "!cd CloserLookFewShot/ && python3 ./train.py --dataset CIFARFS --model Conv4 --method relationnet --start_epoch 0 --stop_epoch 100 --train_n_way 3 --test_n_way 3 --n_shot $n_shot\n",
    "!cd CloserLookFewShot/ && python3 ./save_features.py --dataset CIFARFS --model Conv4 --method relationnet --save_iter $save_iter --train_n_way 3 --test_n_way 3 --n_shot $n_shot\n",
    "!cd CloserLookFewShot/ && python3 ./test.py --dataset CIFARFS --model Conv4 --method relationnet --save_iter $save_iter --test_n_way 3 --train_n_way 3 --n_shot $n_shot\n",
    "!cd CloserLookFewShot/ && python3 ./test.py --dataset CIFARFS --model Conv4 --method relationnet --save_iter $save_iter --test_n_way 3 --train_n_way 3 --n_shot $n_shot --adaptation\n",
    "print(\"Protonet\")\n",
    "!cd CloserLookFewShot/ && python3 ./train.py --dataset CIFARFS --model Conv4 --method protonet --start_epoch 0 --stop_epoch 100 --train_n_way 3 --test_n_way 3 --n_shot $n_shot\n",
    "!cd CloserLookFewShot/ && python3 ./save_features.py --dataset CIFARFS --model Conv4 --method protonet --save_iter $save_iter --train_n_way 3 --test_n_way 3 --n_shot $n_shot\n",
    "!cd CloserLookFewShot/ && python3 ./test.py --dataset CIFARFS --model Conv4 --method protonet --save_iter $save_iter --test_n_way 3 --train_n_way 3 --n_shot $n_shot\n",
    "!cd CloserLookFewShot/ && python3 ./test.py --dataset CIFARFS --model Conv4 --method protonet --save_iter $save_iter --test_n_way 3 --train_n_way 3 --n_shot $n_shot --adaptation"
   ]
  },
  {
   "cell_type": "code",
   "execution_count": null,
   "metadata": {},
   "outputs": [],
   "source": [
    "print(\"Protonet+\")\n",
    "!cd CloserLookFewShot/ && python3 ./train.py --dataset CIFARFS --model Conv4 --method protonetn --start_epoch 0 --stop_epoch 100 --train_n_way 3 --test_n_way 3 --n_shot $n_shot\n",
    "!cd CloserLookFewShot/ && python3 ./test.py --dataset CIFARFS --model Conv4 --method protonetn --save_iter $save_iter --test_n_way 3 --train_n_way 3 --n_shot $n_shot  --additional_iter $additional_iter"
   ]
  },
  {
   "cell_type": "markdown",
   "metadata": {
    "colab_type": "text",
    "id": "WF6ozzeoSqHl"
   },
   "source": [
    "# Land animals -> insects"
   ]
  },
  {
   "cell_type": "code",
   "execution_count": null,
   "metadata": {
    "colab": {},
    "colab_type": "code",
    "id": "yoT0wsOXPFX9"
   },
   "outputs": [],
   "source": [
    "# Get current source code\n",
    "# Land animals -> insects\n",
    "!rm -r CloserLookFewShot\n",
    "!git clone https://github.com/Baschdl/CloserLookFewShot.git\n",
    "!cd CloserLookFewShot/ && git checkout master # Change to branch you want to start training from.\n",
    "# Download CIFAR-FS dataset\n",
    "!cd CloserLookFewShot/filelists/CIFARFS && ./download_Cifar.sh\n",
    "# Create train, val, test split\n",
    "from CloserLookFewShot.filelists.CIFARFS.generate_cross_domain_split import generate_cross_domain_split\n",
    "base_classes = [\"bear\", \"leopard\", \"lion\", \"tiger\", \"cattle\", \"chimpanzee\", \"elephant\"]\n",
    "val_classes = [\"wolf\", \"kangaroo\", \"camel\"]\n",
    "novel_classes = [\"bee\", \"beetle\", \"cockroach\"]\n",
    "generate_cross_domain_split(base_classes, val_classes, novel_classes)\n",
    "%env save_iter=-1"
   ]
  },
  {
   "cell_type": "code",
   "execution_count": null,
   "metadata": {
    "colab": {},
    "colab_type": "code",
    "id": "qy8w-Br0R1YM"
   },
   "outputs": [],
   "source": [
    "%env n_shot=1\n",
    "print(\"\\n n_shot: 1 \\n\")\n",
    "print(\"Baseline\")\n",
    "!cd CloserLookFewShot/ && python3 ./train.py --dataset CIFARFS --model Conv4 --method baseline --start_epoch 0 --stop_epoch 100 --train_n_way 3 --test_n_way 3 --n_shot $n_shot\n",
    "!cd CloserLookFewShot/ && python3 ./save_features.py --dataset CIFARFS --model Conv4 --method baseline --save_iter $save_iter --train_n_way 3 --test_n_way 3 --n_shot $n_shot\n",
    "!cd CloserLookFewShot/ && python3 ./test.py --dataset CIFARFS --model Conv4 --method baseline --save_iter $save_iter --test_n_way 3 --train_n_way 3 --n_shot $n_shot\n",
    "!cd CloserLookFewShot/ && python3 ./test.py --dataset CIFARFS --model Conv4 --method baseline --save_iter $save_iter --test_n_way 3 --train_n_way 3 --n_shot $n_shot --adaptation\n",
    "print(\"Baseline++\")\n",
    "!cd CloserLookFewShot/ && python3 ./train.py --dataset CIFARFS --model Conv4 --method baseline++ --start_epoch 0 --stop_epoch 100 --train_n_way 3 --test_n_way 3 --n_shot $n_shot\n",
    "!cd CloserLookFewShot/ && python3 ./save_features.py --dataset CIFARFS --model Conv4 --method baseline++ --save_iter $save_iter --train_n_way 3 --test_n_way 3 --n_shot $n_shot\n",
    "!cd CloserLookFewShot/ && python3 ./test.py --dataset CIFARFS --model Conv4 --method baseline++ --save_iter $save_iter --test_n_way 3 --train_n_way 3 --n_shot $n_shot\n",
    "!cd CloserLookFewShot/ && python3 ./test.py --dataset CIFARFS --model Conv4 --method baseline++ --save_iter $save_iter --test_n_way 3 --train_n_way 3 --n_shot $n_shot --adaptation\n",
    "print(\"relationnet\")\n",
    "!cd CloserLookFewShot/ && python3 ./train.py --dataset CIFARFS --model Conv4 --method relationnet --start_epoch 0 --stop_epoch 100 --train_n_way 3 --test_n_way 3 --n_shot $n_shot\n",
    "!cd CloserLookFewShot/ && python3 ./save_features.py --dataset CIFARFS --model Conv4 --method relationnet --save_iter $save_iter --train_n_way 3 --test_n_way 3 --n_shot $n_shot\n",
    "!cd CloserLookFewShot/ && python3 ./test.py --dataset CIFARFS --model Conv4 --method relationnet --save_iter $save_iter --test_n_way 3 --train_n_way 3 --n_shot $n_shot\n",
    "print(\"Protonet\")\n",
    "!cd CloserLookFewShot/ && python3 ./train.py --dataset CIFARFS --model Conv4 --method protonet --start_epoch 0 --stop_epoch 100 --train_n_way 3 --test_n_way 3 --n_shot $n_shot\n",
    "!cd CloserLookFewShot/ && python3 ./save_features.py --dataset CIFARFS --model Conv4 --method protonet --save_iter $save_iter --train_n_way 3 --test_n_way 3 --n_shot $n_shot\n",
    "!cd CloserLookFewShot/ && python3 ./test.py --dataset CIFARFS --model Conv4 --method protonet --save_iter $save_iter --test_n_way 3 --train_n_way 3 --n_shot $n_shot\n",
    "!cd CloserLookFewShot/ && python3 ./test.py --dataset CIFARFS --model Conv4 --method protonet --save_iter $save_iter --test_n_way 3 --train_n_way 3 --n_shot $n_shot --adaptation"
   ]
  },
  {
   "cell_type": "code",
   "execution_count": null,
   "metadata": {
    "colab": {},
    "colab_type": "code",
    "id": "PabXtY82R1Yn"
   },
   "outputs": [],
   "source": [
    "%env n_shot=2\n",
    "print(\"\\n n_shot: 2 \\n\")\n",
    "print(\"Baseline\")\n",
    "!cd CloserLookFewShot/ && python3 ./train.py --dataset CIFARFS --model Conv4 --method baseline --start_epoch 0 --stop_epoch 100 --train_n_way 3 --test_n_way 3 --n_shot $n_shot\n",
    "!cd CloserLookFewShot/ && python3 ./save_features.py --dataset CIFARFS --model Conv4 --method baseline --save_iter $save_iter --train_n_way 3 --test_n_way 3 --n_shot $n_shot\n",
    "!cd CloserLookFewShot/ && python3 ./test.py --dataset CIFARFS --model Conv4 --method baseline --save_iter $save_iter --test_n_way 3 --train_n_way 3 --n_shot $n_shot\n",
    "!cd CloserLookFewShot/ && python3 ./test.py --dataset CIFARFS --model Conv4 --method baseline --save_iter $save_iter --test_n_way 3 --train_n_way 3 --n_shot $n_shot --adaptation\n",
    "print(\"Baseline++\")\n",
    "!cd CloserLookFewShot/ && python3 ./train.py --dataset CIFARFS --model Conv4 --method baseline++ --start_epoch 0 --stop_epoch 100 --train_n_way 3 --test_n_way 3 --n_shot $n_shot\n",
    "!cd CloserLookFewShot/ && python3 ./save_features.py --dataset CIFARFS --model Conv4 --method baseline++ --save_iter $save_iter --train_n_way 3 --test_n_way 3 --n_shot $n_shot\n",
    "!cd CloserLookFewShot/ && python3 ./test.py --dataset CIFARFS --model Conv4 --method baseline++ --save_iter $save_iter --test_n_way 3 --train_n_way 3 --n_shot $n_shot\n",
    "!cd CloserLookFewShot/ && python3 ./test.py --dataset CIFARFS --model Conv4 --method baseline++ --save_iter $save_iter --test_n_way 3 --train_n_way 3 --n_shot $n_shot --adaptation\n",
    "print(\"relationnet\")\n",
    "!cd CloserLookFewShot/ && python3 ./train.py --dataset CIFARFS --model Conv4 --method relationnet --start_epoch 0 --stop_epoch 100 --train_n_way 3 --test_n_way 3 --n_shot $n_shot\n",
    "!cd CloserLookFewShot/ && python3 ./save_features.py --dataset CIFARFS --model Conv4 --method relationnet --save_iter $save_iter --train_n_way 3 --test_n_way 3 --n_shot $n_shot\n",
    "!cd CloserLookFewShot/ && python3 ./test.py --dataset CIFARFS --model Conv4 --method relationnet --save_iter $save_iter --test_n_way 3 --train_n_way 3 --n_shot $n_shot\n",
    "print(\"Protonet\")\n",
    "!cd CloserLookFewShot/ && python3 ./train.py --dataset CIFARFS --model Conv4 --method protonet --start_epoch 0 --stop_epoch 100 --train_n_way 3 --test_n_way 3 --n_shot $n_shot\n",
    "!cd CloserLookFewShot/ && python3 ./save_features.py --dataset CIFARFS --model Conv4 --method protonet --save_iter $save_iter --train_n_way 3 --test_n_way 3 --n_shot $n_shot\n",
    "!cd CloserLookFewShot/ && python3 ./test.py --dataset CIFARFS --model Conv4 --method protonet --save_iter $save_iter --test_n_way 3 --train_n_way 3 --n_shot $n_shot\n",
    "!cd CloserLookFewShot/ && python3 ./test.py --dataset CIFARFS --model Conv4 --method protonet --save_iter $save_iter --test_n_way 3 --train_n_way 3 --n_shot $n_shot --adaptation"
   ]
  },
  {
   "cell_type": "code",
   "execution_count": null,
   "metadata": {},
   "outputs": [],
   "source": [
    "print(\"Protonet+\")\n",
    "!cd CloserLookFewShot/ && python3 ./train.py --dataset CIFARFS --model Conv4 --method protonetn --start_epoch 0 --stop_epoch 100 --train_n_way 3 --test_n_way 3 --n_shot $n_shot\n",
    "!cd CloserLookFewShot/ && python3 ./test.py --dataset CIFARFS --model Conv4 --method protonetn --save_iter $save_iter --test_n_way 3 --train_n_way 3 --n_shot $n_shot  --additional_iter $additional_iter"
   ]
  },
  {
   "cell_type": "code",
   "execution_count": null,
   "metadata": {
    "colab": {},
    "colab_type": "code",
    "id": "CLTUucO9R1Yz"
   },
   "outputs": [],
   "source": [
    "%env n_shot=5\n",
    "print(\"\\n n_shot: 5 \\n\")\n",
    "print(\"Baseline\")\n",
    "!cd CloserLookFewShot/ && python3 ./train.py --dataset CIFARFS --model Conv4 --method baseline --start_epoch 0 --stop_epoch 100 --train_n_way 3 --test_n_way 3 --n_shot $n_shot\n",
    "!cd CloserLookFewShot/ && python3 ./save_features.py --dataset CIFARFS --model Conv4 --method baseline --save_iter $save_iter --train_n_way 3 --test_n_way 3 --n_shot $n_shot\n",
    "!cd CloserLookFewShot/ && python3 ./test.py --dataset CIFARFS --model Conv4 --method baseline --save_iter $save_iter --test_n_way 3 --train_n_way 3 --n_shot $n_shot\n",
    "!cd CloserLookFewShot/ && python3 ./test.py --dataset CIFARFS --model Conv4 --method baseline --save_iter $save_iter --test_n_way 3 --train_n_way 3 --n_shot $n_shot --adaptation\n",
    "print(\"Baseline++\")\n",
    "!cd CloserLookFewShot/ && python3 ./train.py --dataset CIFARFS --model Conv4 --method baseline++ --start_epoch 0 --stop_epoch 100 --train_n_way 3 --test_n_way 3 --n_shot $n_shot\n",
    "!cd CloserLookFewShot/ && python3 ./save_features.py --dataset CIFARFS --model Conv4 --method baseline++ --save_iter $save_iter --train_n_way 3 --test_n_way 3 --n_shot $n_shot\n",
    "!cd CloserLookFewShot/ && python3 ./test.py --dataset CIFARFS --model Conv4 --method baseline++ --save_iter $save_iter --test_n_way 3 --train_n_way 3 --n_shot $n_shot\n",
    "!cd CloserLookFewShot/ && python3 ./test.py --dataset CIFARFS --model Conv4 --method baseline++ --save_iter $save_iter --test_n_way 3 --train_n_way 3 --n_shot $n_shot --adaptation\n",
    "print(\"relationnet\")\n",
    "!cd CloserLookFewShot/ && python3 ./train.py --dataset CIFARFS --model Conv4 --method relationnet --start_epoch 0 --stop_epoch 100 --train_n_way 3 --test_n_way 3 --n_shot $n_shot\n",
    "!cd CloserLookFewShot/ && python3 ./save_features.py --dataset CIFARFS --model Conv4 --method relationnet --save_iter $save_iter --train_n_way 3 --test_n_way 3 --n_shot $n_shot\n",
    "!cd CloserLookFewShot/ && python3 ./test.py --dataset CIFARFS --model Conv4 --method relationnet --save_iter $save_iter --test_n_way 3 --train_n_way 3 --n_shot $n_shot\n",
    "!cd CloserLookFewShot/ && python3 ./test.py --dataset CIFARFS --model Conv4 --method relationnet --save_iter $save_iter --test_n_way 3 --train_n_way 3 --n_shot $n_shot --adaptation\n",
    "print(\"Protonet\")\n",
    "!cd CloserLookFewShot/ && python3 ./train.py --dataset CIFARFS --model Conv4 --method protonet --start_epoch 0 --stop_epoch 100 --train_n_way 3 --test_n_way 3 --n_shot $n_shot\n",
    "!cd CloserLookFewShot/ && python3 ./save_features.py --dataset CIFARFS --model Conv4 --method protonet --save_iter $save_iter --train_n_way 3 --test_n_way 3 --n_shot $n_shot\n",
    "!cd CloserLookFewShot/ && python3 ./test.py --dataset CIFARFS --model Conv4 --method protonet --save_iter $save_iter --test_n_way 3 --train_n_way 3 --n_shot $n_shot\n",
    "!cd CloserLookFewShot/ && python3 ./test.py --dataset CIFARFS --model Conv4 --method protonet --save_iter $save_iter --test_n_way 3 --train_n_way 3 --n_shot $n_shot --adaptation"
   ]
  },
  {
   "cell_type": "code",
   "execution_count": null,
   "metadata": {},
   "outputs": [],
   "source": [
    "print(\"Protonet+\")\n",
    "!cd CloserLookFewShot/ && python3 ./train.py --dataset CIFARFS --model Conv4 --method protonetn --start_epoch 0 --stop_epoch 100 --train_n_way 3 --test_n_way 3 --n_shot $n_shot\n",
    "!cd CloserLookFewShot/ && python3 ./test.py --dataset CIFARFS --model Conv4 --method protonetn --save_iter $save_iter --test_n_way 3 --train_n_way 3 --n_shot $n_shot  --additional_iter $additional_iter"
   ]
  },
  {
   "cell_type": "markdown",
   "metadata": {
    "colab_type": "text",
    "id": "q-H28eUwS6FH"
   },
   "source": [
    "# Land animals -> aquatic_mammals"
   ]
  },
  {
   "cell_type": "code",
   "execution_count": null,
   "metadata": {
    "colab": {
     "base_uri": "https://localhost:8080/",
     "height": 555
    },
    "colab_type": "code",
    "id": "ZhVu9b5GPQKt",
    "outputId": "d2c8cf6b-0e1e-4782-c5e8-9a6356f0f9cd"
   },
   "outputs": [],
   "source": [
    "# Get current source code\n",
    "# Land animals -> aquatic_mammals\n",
    "!rm -r CloserLookFewShot\n",
    "!git clone https://github.com/Baschdl/CloserLookFewShot.git\n",
    "!cd CloserLookFewShot/ && git checkout master # Change to branch you want to start training from.\n",
    "# Download CIFAR-FS dataset\n",
    "!cd CloserLookFewShot/filelists/CIFARFS && ./download_Cifar.sh\n",
    "# Create train, val, test split\n",
    "from CloserLookFewShot.filelists.CIFARFS.generate_cross_domain_split import generate_cross_domain_split\n",
    "base_classes = [\"bear\", \"leopard\", \"lion\", \"camel\", \"cattle\", \"chimpanzee\", \"elephant\"]\n",
    "val_classes = [\"wolf\", \"kangaroo\", \"camel\"]\n",
    "novel_classes = [\"beaver\", \"otter\", \"whale\"]\n",
    "# \"tiger\", \"wolf\", \"kangaroo\", no domain shift\n",
    "generate_cross_domain_split(base_classes, val_classes, novel_classes)\n",
    "%env save_iter=-1"
   ]
  },
  {
   "cell_type": "code",
   "execution_count": null,
   "metadata": {
    "colab": {},
    "colab_type": "code",
    "id": "xMZMNyLMR2vp"
   },
   "outputs": [],
   "source": [
    "%env n_shot=1\n",
    "print(\"\\n n_shot: 1 \\n\")\n",
    "print(\"Baseline\")\n",
    "!cd CloserLookFewShot/ && python3 ./train.py --dataset CIFARFS --model Conv4 --method baseline --start_epoch 0 --stop_epoch 100 --train_n_way 3 --test_n_way 3 --n_shot $n_shot\n",
    "!cd CloserLookFewShot/ && python3 ./save_features.py --dataset CIFARFS --model Conv4 --method baseline --save_iter $save_iter --train_n_way 3 --test_n_way 3 --n_shot $n_shot\n",
    "!cd CloserLookFewShot/ && python3 ./test.py --dataset CIFARFS --model Conv4 --method baseline --save_iter $save_iter --test_n_way 3 --train_n_way 3 --n_shot $n_shot\n",
    "!cd CloserLookFewShot/ && python3 ./test.py --dataset CIFARFS --model Conv4 --method baseline --save_iter $save_iter --test_n_way 3 --train_n_way 3 --n_shot $n_shot --adaptation\n",
    "print(\"Baseline++\")\n",
    "!cd CloserLookFewShot/ && python3 ./train.py --dataset CIFARFS --model Conv4 --method baseline++ --start_epoch 0 --stop_epoch 100 --train_n_way 3 --test_n_way 3 --n_shot $n_shot\n",
    "!cd CloserLookFewShot/ && python3 ./save_features.py --dataset CIFARFS --model Conv4 --method baseline++ --save_iter $save_iter --train_n_way 3 --test_n_way 3 --n_shot $n_shot\n",
    "!cd CloserLookFewShot/ && python3 ./test.py --dataset CIFARFS --model Conv4 --method baseline++ --save_iter $save_iter --test_n_way 3 --train_n_way 3 --n_shot $n_shot\n",
    "!cd CloserLookFewShot/ && python3 ./test.py --dataset CIFARFS --model Conv4 --method baseline++ --save_iter $save_iter --test_n_way 3 --train_n_way 3 --n_shot $n_shot --adaptation\n",
    "print(\"relationnet\")\n",
    "!cd CloserLookFewShot/ && python3 ./train.py --dataset CIFARFS --model Conv4 --method relationnet --start_epoch 0 --stop_epoch 100 --train_n_way 3 --test_n_way 3 --n_shot $n_shot\n",
    "!cd CloserLookFewShot/ && python3 ./save_features.py --dataset CIFARFS --model Conv4 --method relationnet --save_iter $save_iter --train_n_way 3 --test_n_way 3 --n_shot $n_shot\n",
    "!cd CloserLookFewShot/ && python3 ./test.py --dataset CIFARFS --model Conv4 --method relationnet --save_iter $save_iter --test_n_way 3 --train_n_way 3 --n_shot $n_shot\n",
    "print(\"Protonet\")\n",
    "!cd CloserLookFewShot/ && python3 ./train.py --dataset CIFARFS --model Conv4 --method protonet --start_epoch 0 --stop_epoch 100 --train_n_way 3 --test_n_way 3 --n_shot $n_shot\n",
    "!cd CloserLookFewShot/ && python3 ./save_features.py --dataset CIFARFS --model Conv4 --method protonet --save_iter $save_iter --train_n_way 3 --test_n_way 3 --n_shot $n_shot\n",
    "!cd CloserLookFewShot/ && python3 ./test.py --dataset CIFARFS --model Conv4 --method protonet --save_iter $save_iter --test_n_way 3 --train_n_way 3 --n_shot $n_shot\n",
    "!cd CloserLookFewShot/ && python3 ./test.py --dataset CIFARFS --model Conv4 --method protonet --save_iter $save_iter --test_n_way 3 --train_n_way 3 --n_shot $n_shot --adaptation"
   ]
  },
  {
   "cell_type": "code",
   "execution_count": null,
   "metadata": {
    "colab": {
     "base_uri": "https://localhost:8080/",
     "height": 1000
    },
    "colab_type": "code",
    "id": "HvMjnvp4R2v2",
    "outputId": "bd073ce2-1551-41f9-ac7c-43960eb81b7f"
   },
   "outputs": [],
   "source": [
    "%env n_shot=2\n",
    "print(\"\\n n_shot: 2 \\n\")\n",
    "print(\"Baseline\")\n",
    "!cd CloserLookFewShot/ && python3 ./train.py --dataset CIFARFS --model Conv4 --method baseline --start_epoch 0 --stop_epoch 100 --train_n_way 3 --test_n_way 3 --n_shot $n_shot\n",
    "!cd CloserLookFewShot/ && python3 ./save_features.py --dataset CIFARFS --model Conv4 --method baseline --save_iter $save_iter --train_n_way 3 --test_n_way 3 --n_shot $n_shot\n",
    "!cd CloserLookFewShot/ && python3 ./test.py --dataset CIFARFS --model Conv4 --method baseline --save_iter $save_iter --test_n_way 3 --train_n_way 3 --n_shot $n_shot\n",
    "!cd CloserLookFewShot/ && python3 ./test.py --dataset CIFARFS --model Conv4 --method baseline --save_iter $save_iter --test_n_way 3 --train_n_way 3 --n_shot $n_shot --adaptation\n",
    "print(\"Baseline++\")\n",
    "!cd CloserLookFewShot/ && python3 ./train.py --dataset CIFARFS --model Conv4 --method baseline++ --start_epoch 0 --stop_epoch 100 --train_n_way 3 --test_n_way 3 --n_shot $n_shot\n",
    "!cd CloserLookFewShot/ && python3 ./save_features.py --dataset CIFARFS --model Conv4 --method baseline++ --save_iter $save_iter --train_n_way 3 --test_n_way 3 --n_shot $n_shot\n",
    "!cd CloserLookFewShot/ && python3 ./test.py --dataset CIFARFS --model Conv4 --method baseline++ --save_iter $save_iter --test_n_way 3 --train_n_way 3 --n_shot $n_shot\n",
    "!cd CloserLookFewShot/ && python3 ./test.py --dataset CIFARFS --model Conv4 --method baseline++ --save_iter $save_iter --test_n_way 3 --train_n_way 3 --n_shot $n_shot --adaptation\n",
    "print(\"relationnet\")\n",
    "!cd CloserLookFewShot/ && python3 ./train.py --dataset CIFARFS --model Conv4 --method relationnet --start_epoch 0 --stop_epoch 100 --train_n_way 3 --test_n_way 3 --n_shot $n_shot\n",
    "!cd CloserLookFewShot/ && python3 ./save_features.py --dataset CIFARFS --model Conv4 --method relationnet --save_iter $save_iter --train_n_way 3 --test_n_way 3 --n_shot $n_shot\n",
    "!cd CloserLookFewShot/ && python3 ./test.py --dataset CIFARFS --model Conv4 --method relationnet --save_iter $save_iter --test_n_way 3 --train_n_way 3 --n_shot $n_shot\n",
    "print(\"Protonet\")\n",
    "!cd CloserLookFewShot/ && python3 ./train.py --dataset CIFARFS --model Conv4 --method protonet --start_epoch 0 --stop_epoch 100 --train_n_way 3 --test_n_way 3 --n_shot $n_shot\n",
    "!cd CloserLookFewShot/ && python3 ./save_features.py --dataset CIFARFS --model Conv4 --method protonet --save_iter $save_iter --train_n_way 3 --test_n_way 3 --n_shot $n_shot\n",
    "!cd CloserLookFewShot/ && python3 ./test.py --dataset CIFARFS --model Conv4 --method protonet --save_iter $save_iter --test_n_way 3 --train_n_way 3 --n_shot $n_shot\n",
    "!cd CloserLookFewShot/ && python3 ./test.py --dataset CIFARFS --model Conv4 --method protonet --save_iter $save_iter --test_n_way 3 --train_n_way 3 --n_shot $n_shot --adaptation"
   ]
  },
  {
   "cell_type": "code",
   "execution_count": null,
   "metadata": {
    "colab": {
     "base_uri": "https://localhost:8080/",
     "height": 1000
    },
    "colab_type": "code",
    "id": "NEAPABUF63I2",
    "outputId": "e09c3661-28d1-46c0-92e2-be207a05d6c8"
   },
   "outputs": [],
   "source": [
    "print(\"Protonet+\")\n",
    "!cd CloserLookFewShot/ && python3 ./train.py --dataset CIFARFS --model Conv4 --method protonetn --start_epoch 0 --stop_epoch 100 --train_n_way 3 --test_n_way 3 --n_shot $n_shot\n",
    "!cd CloserLookFewShot/ && python3 ./test.py --dataset CIFARFS --model Conv4 --method protonetn --save_iter $save_iter --test_n_way 3 --train_n_way 3 --n_shot $n_shot  --additional_iter $additional_iter"
   ]
  },
  {
   "cell_type": "code",
   "execution_count": null,
   "metadata": {
    "colab": {},
    "colab_type": "code",
    "id": "AQD7i_WTR2v_"
   },
   "outputs": [],
   "source": [
    "%env n_shot=5\n",
    "print(\"\\n n_shot: 5 \\n\")\n",
    "print(\"Baseline\")\n",
    "!cd CloserLookFewShot/ && python3 ./train.py --dataset CIFARFS --model Conv4 --method baseline --start_epoch 0 --stop_epoch 100 --train_n_way 3 --test_n_way 3 --n_shot $n_shot\n",
    "!cd CloserLookFewShot/ && python3 ./save_features.py --dataset CIFARFS --model Conv4 --method baseline --save_iter $save_iter --train_n_way 3 --test_n_way 3 --n_shot $n_shot\n",
    "!cd CloserLookFewShot/ && python3 ./test.py --dataset CIFARFS --model Conv4 --method baseline --save_iter $save_iter --test_n_way 3 --train_n_way 3 --n_shot $n_shot\n",
    "!cd CloserLookFewShot/ && python3 ./test.py --dataset CIFARFS --model Conv4 --method baseline --save_iter $save_iter --test_n_way 3 --train_n_way 3 --n_shot $n_shot --adaptation\n",
    "print(\"Baseline++\")\n",
    "!cd CloserLookFewShot/ && python3 ./train.py --dataset CIFARFS --model Conv4 --method baseline++ --start_epoch 0 --stop_epoch 100 --train_n_way 3 --test_n_way 3 --n_shot $n_shot\n",
    "!cd CloserLookFewShot/ && python3 ./save_features.py --dataset CIFARFS --model Conv4 --method baseline++ --save_iter $save_iter --train_n_way 3 --test_n_way 3 --n_shot $n_shot\n",
    "!cd CloserLookFewShot/ && python3 ./test.py --dataset CIFARFS --model Conv4 --method baseline++ --save_iter $save_iter --test_n_way 3 --train_n_way 3 --n_shot $n_shot\n",
    "!cd CloserLookFewShot/ && python3 ./test.py --dataset CIFARFS --model Conv4 --method baseline++ --save_iter $save_iter --test_n_way 3 --train_n_way 3 --n_shot $n_shot --adaptation\n",
    "print(\"relationnet\")\n",
    "!cd CloserLookFewShot/ && python3 ./train.py --dataset CIFARFS --model Conv4 --method relationnet --start_epoch 0 --stop_epoch 100 --train_n_way 3 --test_n_way 3 --n_shot $n_shot\n",
    "!cd CloserLookFewShot/ && python3 ./save_features.py --dataset CIFARFS --model Conv4 --method relationnet --save_iter $save_iter --train_n_way 3 --test_n_way 3 --n_shot $n_shot\n",
    "!cd CloserLookFewShot/ && python3 ./test.py --dataset CIFARFS --model Conv4 --method relationnet --save_iter $save_iter --test_n_way 3 --train_n_way 3 --n_shot $n_shot\n",
    "!cd CloserLookFewShot/ && python3 ./test.py --dataset CIFARFS --model Conv4 --method relationnet --save_iter $save_iter --test_n_way 3 --train_n_way 3 --n_shot $n_shot --adaptation\n",
    "print(\"Protonet\")\n",
    "!cd CloserLookFewShot/ && python3 ./train.py --dataset CIFARFS --model Conv4 --method protonet --start_epoch 0 --stop_epoch 100 --train_n_way 3 --test_n_way 3 --n_shot $n_shot\n",
    "!cd CloserLookFewShot/ && python3 ./save_features.py --dataset CIFARFS --model Conv4 --method protonet --save_iter $save_iter --train_n_way 3 --test_n_way 3 --n_shot $n_shot\n",
    "!cd CloserLookFewShot/ && python3 ./test.py --dataset CIFARFS --model Conv4 --method protonet --save_iter $save_iter --test_n_way 3 --train_n_way 3 --n_shot $n_shot\n",
    "!cd CloserLookFewShot/ && python3 ./test.py --dataset CIFARFS --model Conv4 --method protonet --save_iter $save_iter --test_n_way 3 --train_n_way 3 --n_shot $n_shot --adaptation"
   ]
  },
  {
   "cell_type": "code",
   "execution_count": null,
   "metadata": {},
   "outputs": [],
   "source": [
    "print(\"Protonet+\")\n",
    "!cd CloserLookFewShot/ && python3 ./train.py --dataset CIFARFS --model Conv4 --method protonetn --start_epoch 0 --stop_epoch 100 --train_n_way 3 --test_n_way 3 --n_shot $n_shot\n",
    "!cd CloserLookFewShot/ && python3 ./test.py --dataset CIFARFS --model Conv4 --method protonetn --save_iter $save_iter --test_n_way 3 --train_n_way 3 --n_shot $n_shot  --additional_iter $additional_iter"
   ]
  },
  {
   "cell_type": "markdown",
   "metadata": {
    "colab_type": "text",
    "id": "P6jCtxUSS_RL"
   },
   "source": [
    "# Outdoor scenes and object -> vehicles"
   ]
  },
  {
   "cell_type": "code",
   "execution_count": null,
   "metadata": {
    "colab": {},
    "colab_type": "code",
    "id": "e54_AKc3PiJk"
   },
   "outputs": [],
   "source": [
    "# Get current source code\n",
    "# Outdoor scenes and object -> vehicles\n",
    "!rm -r CloserLookFewShot\n",
    "!git clone https://github.com/Baschdl/CloserLookFewShot.git\n",
    "!cd CloserLookFewShot/ && git checkout master # Change to branch you want to start training from.\n",
    "# Download CIFAR-FS dataset\n",
    "!cd CloserLookFewShot/filelists/CIFARFS && ./download_Cifar.sh\n",
    "# Create train, val, test split\n",
    "from CloserLookFewShot.filelists.CIFARFS.generate_cross_domain_split import generate_cross_domain_split\n",
    "base_classes = [\"cloud\", \"forest\", \"mountain\", \"castle\", \"house\", \"road\", \"skyscraper\"]\n",
    "val_classes = [\"plain\", \"sea\", \"bridge\"]\n",
    "novel_classes = [\"bicycle\", \"bus\", \"tractor\"] \n",
    "# \"plain\", \"sea\", \"bridge\", no doamina shift\n",
    "generate_cross_domain_split(base_classes, val_classes, novel_classes)\n",
    "%env save_iter=-1"
   ]
  },
  {
   "cell_type": "code",
   "execution_count": null,
   "metadata": {
    "colab": {},
    "colab_type": "code",
    "id": "x8P6yEYER3tX"
   },
   "outputs": [],
   "source": [
    "%env n_shot=1\n",
    "print(\"\\n n_shot: 1 \\n\")\n",
    "print(\"Baseline\")\n",
    "!cd CloserLookFewShot/ && python3 ./train.py --dataset CIFARFS --model Conv4 --method baseline --start_epoch 0 --stop_epoch 100 --train_n_way 3 --test_n_way 3 --n_shot $n_shot\n",
    "!cd CloserLookFewShot/ && python3 ./save_features.py --dataset CIFARFS --model Conv4 --method baseline --save_iter $save_iter --train_n_way 3 --test_n_way 3 --n_shot $n_shot\n",
    "!cd CloserLookFewShot/ && python3 ./test.py --dataset CIFARFS --model Conv4 --method baseline --save_iter $save_iter --test_n_way 3 --train_n_way 3 --n_shot $n_shot\n",
    "!cd CloserLookFewShot/ && python3 ./test.py --dataset CIFARFS --model Conv4 --method baseline --save_iter $save_iter --test_n_way 3 --train_n_way 3 --n_shot $n_shot --adaptation\n",
    "print(\"Baseline++\")\n",
    "!cd CloserLookFewShot/ && python3 ./train.py --dataset CIFARFS --model Conv4 --method baseline++ --start_epoch 0 --stop_epoch 100 --train_n_way 3 --test_n_way 3 --n_shot $n_shot\n",
    "!cd CloserLookFewShot/ && python3 ./save_features.py --dataset CIFARFS --model Conv4 --method baseline++ --save_iter $save_iter --train_n_way 3 --test_n_way 3 --n_shot $n_shot\n",
    "!cd CloserLookFewShot/ && python3 ./test.py --dataset CIFARFS --model Conv4 --method baseline++ --save_iter $save_iter --test_n_way 3 --train_n_way 3 --n_shot $n_shot\n",
    "!cd CloserLookFewShot/ && python3 ./test.py --dataset CIFARFS --model Conv4 --method baseline++ --save_iter $save_iter --test_n_way 3 --train_n_way 3 --n_shot $n_shot --adaptation\n",
    "print(\"relationnet\")\n",
    "!cd CloserLookFewShot/ && python3 ./train.py --dataset CIFARFS --model Conv4 --method relationnet --start_epoch 0 --stop_epoch 100 --train_n_way 3 --test_n_way 3 --n_shot $n_shot\n",
    "!cd CloserLookFewShot/ && python3 ./save_features.py --dataset CIFARFS --model Conv4 --method relationnet --save_iter $save_iter --train_n_way 3 --test_n_way 3 --n_shot $n_shot\n",
    "!cd CloserLookFewShot/ && python3 ./test.py --dataset CIFARFS --model Conv4 --method relationnet --save_iter $save_iter --test_n_way 3 --train_n_way 3 --n_shot $n_shot\n",
    "print(\"Protonet\")\n",
    "!cd CloserLookFewShot/ && python3 ./train.py --dataset CIFARFS --model Conv4 --method protonet --start_epoch 0 --stop_epoch 100 --train_n_way 3 --test_n_way 3 --n_shot $n_shot\n",
    "!cd CloserLookFewShot/ && python3 ./save_features.py --dataset CIFARFS --model Conv4 --method protonet --save_iter $save_iter --train_n_way 3 --test_n_way 3 --n_shot $n_shot\n",
    "!cd CloserLookFewShot/ && python3 ./test.py --dataset CIFARFS --model Conv4 --method protonet --save_iter $save_iter --test_n_way 3 --train_n_way 3 --n_shot $n_shot\n",
    "!cd CloserLookFewShot/ && python3 ./test.py --dataset CIFARFS --model Conv4 --method protonet --save_iter $save_iter --test_n_way 3 --train_n_way 3 --n_shot $n_shot --adaptation"
   ]
  },
  {
   "cell_type": "code",
   "execution_count": null,
   "metadata": {
    "colab": {},
    "colab_type": "code",
    "id": "pGA1dkWzR3tf"
   },
   "outputs": [],
   "source": [
    "%env n_shot=2\n",
    "print(\"\\n n_shot: 2 \\n\")\n",
    "print(\"Baseline\")\n",
    "!cd CloserLookFewShot/ && python3 ./train.py --dataset CIFARFS --model Conv4 --method baseline --start_epoch 0 --stop_epoch 100 --train_n_way 3 --test_n_way 3 --n_shot $n_shot\n",
    "!cd CloserLookFewShot/ && python3 ./save_features.py --dataset CIFARFS --model Conv4 --method baseline --save_iter $save_iter --train_n_way 3 --test_n_way 3 --n_shot $n_shot\n",
    "!cd CloserLookFewShot/ && python3 ./test.py --dataset CIFARFS --model Conv4 --method baseline --save_iter $save_iter --test_n_way 3 --train_n_way 3 --n_shot $n_shot\n",
    "!cd CloserLookFewShot/ && python3 ./test.py --dataset CIFARFS --model Conv4 --method baseline --save_iter $save_iter --test_n_way 3 --train_n_way 3 --n_shot $n_shot --adaptation\n",
    "print(\"Baseline++\")\n",
    "!cd CloserLookFewShot/ && python3 ./train.py --dataset CIFARFS --model Conv4 --method baseline++ --start_epoch 0 --stop_epoch 100 --train_n_way 3 --test_n_way 3 --n_shot $n_shot\n",
    "!cd CloserLookFewShot/ && python3 ./save_features.py --dataset CIFARFS --model Conv4 --method baseline++ --save_iter $save_iter --train_n_way 3 --test_n_way 3 --n_shot $n_shot\n",
    "!cd CloserLookFewShot/ && python3 ./test.py --dataset CIFARFS --model Conv4 --method baseline++ --save_iter $save_iter --test_n_way 3 --train_n_way 3 --n_shot $n_shot\n",
    "!cd CloserLookFewShot/ && python3 ./test.py --dataset CIFARFS --model Conv4 --method baseline++ --save_iter $save_iter --test_n_way 3 --train_n_way 3 --n_shot $n_shot --adaptation\n",
    "print(\"relationnet\")\n",
    "!cd CloserLookFewShot/ && python3 ./train.py --dataset CIFARFS --model Conv4 --method relationnet --start_epoch 0 --stop_epoch 100 --train_n_way 3 --test_n_way 3 --n_shot $n_shot\n",
    "!cd CloserLookFewShot/ && python3 ./save_features.py --dataset CIFARFS --model Conv4 --method relationnet --save_iter $save_iter --train_n_way 3 --test_n_way 3 --n_shot $n_shot\n",
    "!cd CloserLookFewShot/ && python3 ./test.py --dataset CIFARFS --model Conv4 --method relationnet --save_iter $save_iter --test_n_way 3 --train_n_way 3 --n_shot $n_shot\n",
    "print(\"Protonet\")\n",
    "!cd CloserLookFewShot/ && python3 ./train.py --dataset CIFARFS --model Conv4 --method protonet --start_epoch 0 --stop_epoch 100 --train_n_way 3 --test_n_way 3 --n_shot $n_shot\n",
    "!cd CloserLookFewShot/ && python3 ./save_features.py --dataset CIFARFS --model Conv4 --method protonet --save_iter $save_iter --train_n_way 3 --test_n_way 3 --n_shot $n_shot\n",
    "!cd CloserLookFewShot/ && python3 ./test.py --dataset CIFARFS --model Conv4 --method protonet --save_iter $save_iter --test_n_way 3 --train_n_way 3 --n_shot $n_shot\n",
    "!cd CloserLookFewShot/ && python3 ./test.py --dataset CIFARFS --model Conv4 --method protonet --save_iter $save_iter --test_n_way 3 --train_n_way 3 --n_shot $n_shot --adaptation"
   ]
  },
  {
   "cell_type": "code",
   "execution_count": null,
   "metadata": {},
   "outputs": [],
   "source": [
    "print(\"Protonet+\")\n",
    "!cd CloserLookFewShot/ && python3 ./train.py --dataset CIFARFS --model Conv4 --method protonetn --start_epoch 0 --stop_epoch 100 --train_n_way 3 --test_n_way 3 --n_shot $n_shot\n",
    "!cd CloserLookFewShot/ && python3 ./test.py --dataset CIFARFS --model Conv4 --method protonetn --save_iter $save_iter --test_n_way 3 --train_n_way 3 --n_shot $n_shot  --additional_iter $additional_iter"
   ]
  },
  {
   "cell_type": "code",
   "execution_count": null,
   "metadata": {
    "colab": {},
    "colab_type": "code",
    "id": "A1gPJSs3R3tp"
   },
   "outputs": [],
   "source": [
    "%env n_shot=5\n",
    "print(\"\\n n_shot: 5 \\n\")\n",
    "print(\"Baseline\")\n",
    "!cd CloserLookFewShot/ && python3 ./train.py --dataset CIFARFS --model Conv4 --method baseline --start_epoch 0 --stop_epoch 100 --train_n_way 3 --test_n_way 3 --n_shot $n_shot\n",
    "!cd CloserLookFewShot/ && python3 ./save_features.py --dataset CIFARFS --model Conv4 --method baseline --save_iter $save_iter --train_n_way 3 --test_n_way 3 --n_shot $n_shot\n",
    "!cd CloserLookFewShot/ && python3 ./test.py --dataset CIFARFS --model Conv4 --method baseline --save_iter $save_iter --test_n_way 3 --train_n_way 3 --n_shot $n_shot\n",
    "!cd CloserLookFewShot/ && python3 ./test.py --dataset CIFARFS --model Conv4 --method baseline --save_iter $save_iter --test_n_way 3 --train_n_way 3 --n_shot $n_shot --adaptation\n",
    "print(\"Baseline++\")\n",
    "!cd CloserLookFewShot/ && python3 ./train.py --dataset CIFARFS --model Conv4 --method baseline++ --start_epoch 0 --stop_epoch 100 --train_n_way 3 --test_n_way 3 --n_shot $n_shot\n",
    "!cd CloserLookFewShot/ && python3 ./save_features.py --dataset CIFARFS --model Conv4 --method baseline++ --save_iter $save_iter --train_n_way 3 --test_n_way 3 --n_shot $n_shot\n",
    "!cd CloserLookFewShot/ && python3 ./test.py --dataset CIFARFS --model Conv4 --method baseline++ --save_iter $save_iter --test_n_way 3 --train_n_way 3 --n_shot $n_shot\n",
    "!cd CloserLookFewShot/ && python3 ./test.py --dataset CIFARFS --model Conv4 --method baseline++ --save_iter $save_iter --test_n_way 3 --train_n_way 3 --n_shot $n_shot --adaptation\n",
    "print(\"relationnet\")\n",
    "!cd CloserLookFewShot/ && python3 ./train.py --dataset CIFARFS --model Conv4 --method relationnet --start_epoch 0 --stop_epoch 100 --train_n_way 3 --test_n_way 3 --n_shot $n_shot\n",
    "!cd CloserLookFewShot/ && python3 ./save_features.py --dataset CIFARFS --model Conv4 --method relationnet --save_iter $save_iter --train_n_way 3 --test_n_way 3 --n_shot $n_shot\n",
    "!cd CloserLookFewShot/ && python3 ./test.py --dataset CIFARFS --model Conv4 --method relationnet --save_iter $save_iter --test_n_way 3 --train_n_way 3 --n_shot $n_shot\n",
    "!cd CloserLookFewShot/ && python3 ./test.py --dataset CIFARFS --model Conv4 --method relationnet --save_iter $save_iter --test_n_way 3 --train_n_way 3 --n_shot $n_shot --adaptation\n",
    "print(\"Protonet\")\n",
    "!cd CloserLookFewShot/ && python3 ./train.py --dataset CIFARFS --model Conv4 --method protonet --start_epoch 0 --stop_epoch 100 --train_n_way 3 --test_n_way 3 --n_shot $n_shot\n",
    "!cd CloserLookFewShot/ && python3 ./save_features.py --dataset CIFARFS --model Conv4 --method protonet --save_iter $save_iter --train_n_way 3 --test_n_way 3 --n_shot $n_shot\n",
    "!cd CloserLookFewShot/ && python3 ./test.py --dataset CIFARFS --model Conv4 --method protonet --save_iter $save_iter --test_n_way 3 --train_n_way 3 --n_shot $n_shot\n",
    "!cd CloserLookFewShot/ && python3 ./test.py --dataset CIFARFS --model Conv4 --method protonet --save_iter $save_iter --test_n_way 3 --train_n_way 3 --n_shot $n_shot --adaptation"
   ]
  },
  {
   "cell_type": "code",
   "execution_count": null,
   "metadata": {},
   "outputs": [],
   "source": [
    "print(\"Protonet+\")\n",
    "!cd CloserLookFewShot/ && python3 ./train.py --dataset CIFARFS --model Conv4 --method protonetn --start_epoch 0 --stop_epoch 100 --train_n_way 3 --test_n_way 3 --n_shot $n_shot\n",
    "!cd CloserLookFewShot/ && python3 ./test.py --dataset CIFARFS --model Conv4 --method protonetn --save_iter $save_iter --test_n_way 3 --train_n_way 3 --n_shot $n_shot  --additional_iter $additional_iter"
   ]
  }
 ],
 "metadata": {
  "accelerator": "GPU",
  "colab": {
   "collapsed_sections": [],
   "name": "Experiments.ipynb",
   "provenance": [],
   "toc_visible": true
  },
  "kernelspec": {
   "display_name": "Python 3",
   "language": "python",
   "name": "python3"
  },
  "language_info": {
   "codemirror_mode": {
    "name": "ipython",
    "version": 3
   },
   "file_extension": ".py",
   "mimetype": "text/x-python",
   "name": "python",
   "nbconvert_exporter": "python",
   "pygments_lexer": "ipython3",
   "version": "3.7.7"
  }
 },
 "nbformat": 4,
 "nbformat_minor": 1
}
